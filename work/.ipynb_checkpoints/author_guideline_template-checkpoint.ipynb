{
 "cells": [
  {
   "cell_type": "markdown",
   "metadata": {
    "citation-manager": {
     "citations": {
      "": []
     }
    },
    "tags": [
     "title"
    ]
   },
   "source": [
    "# Designing Our Digital Past\n",
    "## Anchoring Digital-History Tool Development in the Historical Method Through Design-Based History Research"
   ]
  },
  {
   "cell_type": "markdown",
   "metadata": {
    "tags": [
     "contributor"
    ]
   },
   "source": [
    " ### Kalani Craig [![orcid](https://orcid.org/sites/default/files/images/orcid_16x16.png)](https://orcid.org/0000-0002-8909-0369) \n",
    "Department of History, College of Arts + Sciences Indiana University-Bloomington "
   ]
  },
  {
   "cell_type": "markdown",
   "metadata": {
    "tags": [
     "contributor"
    ]
   },
   "source": [
    " ### Joshua Danish [![orcid](https://orcid.org/sites/default/files/images/orcid_16x16.png)](https://orcid.org/0000-0002-8909-0369) \n",
    "Learning Sciences, School of Education, Indiana University-Bloomington "
   ]
  },
  {
   "cell_type": "markdown",
   "metadata": {
    "tags": [
     "copyright"
    ]
   },
   "source": [
    "[![cc-by-nc-nd](https://licensebuttons.net/l/by-nc-nd/4.0/88x31.png)](https://creativecommons.org/licenses/by-nc-nd/4.0/) \n",
    "© Kalani Craig and Joshua Danish. [Net.Create](https://www.netcreate.org) is funded through the [EAGER program](https://www.nsf.gov/pubs/policydocs/pappguide/nsf09_1/gpg_2.jsp#IID2) at the [National Science Foundation](https://www.nsf.gov/) under award #[1848655](https://www.nsf.gov/awardsearch/showAward?AWD_ID=1848655). Published by De Gruyter in cooperation with the University of Luxembourg Centre for Contemporary and Digital History. This is an Open Access article distributed under the terms of the [Creative Commons Attribution License CC-BY-NC-ND](https://creativecommons.org/licenses/by-nc-nd/4.0/)\n"
   ]
  },
  {
   "cell_type": "code",
   "execution_count": null,
   "metadata": {
    "tags": [
     "cover"
    ]
   },
   "outputs": [],
   "source": [
    "from IPython.display import Image, display\n",
    "\n",
    "display(Image(\"./media/placeholder.png\"))"
   ]
  },
  {
   "cell_type": "markdown",
   "metadata": {
    "tags": [
     "keywords"
    ]
   },
   "source": [
    "network analysis, digital history tool design, capta, collaborative history, co-design, interdisciplinarity, representations, tacitus, design based history research"
   ]
  },
  {
   "cell_type": "markdown",
   "metadata": {
    "tags": [
     "abstract"
    ]
   },
   "source": [
    "Many of the tools digital humanists use have come from a variety of disciplines outside of history. As a consequence, many digital-history methods sections focus on how a tool developed by non-historians might support, or need to be adapted for, particular historical questions. Few digital tools have been developed by and for historians with a specific eye to the methdological and theoretical explorations of design principles that anchor digital-history-specific tool development in historiographic practices.\n",
    "\n",
    "This article introduces Design Based History Research (DBHR) as a methodological bridge between the practices of digital-history tool design, the use of digital methods to create historical argumentation, and social-science-inspired methodological innovation. Design Based Research (DBR) is an educational-research approach to studying learning theory that integrates theoretically motivated user interface features, user activities, and data-structure choices into an initial tool/software-package design and then uses case studies of the design package as a way of iteratively reifying the theoretical principles in each of the tool's design phases. DBHR is an adaptation of the DBR approach, with a theoretical approach grounded in the unique needs of historians and historiographic practices.\n",
    "\n",
    "We aim to illustrate DBHR by describing the design and use of Net.Create, a user-focused network-analysis tool that prioritizes historiographic practices (evidence interpretation, citation preservation, and historiographic debate) in its feature development and user-interface choices. We document how the needs of digital historians shaped the current design of Net.Create, explore the connections between specific tool features and their operation, and delineate how those tool features support the digital-history needs we identified. As part of this iterative-design process, we will also address some of the human-computer-interaction analysis and user-entered network data that shaped each stage of our feature development around digital history practices.\n",
    "\n",
    "Our DBHR process ultimately led us to prioritize the development of three features that support and encourage sustained historiographic debate at each phase of a network-analysis digital-history project:\n",
    "- simultaneous entry of *capta*, data that is gathered and contested rather than downloaded or received, in order to support and encourage historiographic debate during the data-gathering phase and prior to a formal analysis phase\n",
    "- easy-to-use revision of network taxonomy and network data, to support interpretation, reinterpretation and re-input of evidence and data by many collaborators simultaneously, synchronously or asynchronously, during the initial analysis phase\n",
    "- data provenance features that expose the researchers' positionality and preserve the original citations for each network datapoint, to support the integration of close-reading analytical practices both by the research team and by other historians after the communication of results to a public audience\n",
    "\n",
    "By documenting the historiographic roots of each of these features, we hope to offer a systematic articulation of digital history tool design not simply as software development but as a pathway to the concurrent and intertwined development of historical theory, digital-history tools, and collaborative historical methods."
   ]
  },
  {
   "cell_type": "markdown",
   "metadata": {},
   "source": [
    "## Introduction: Archival Boxes and Computational Black Boxes"
   ]
  },
  {
   "cell_type": "markdown",
   "metadata": {
    "tags": [
     "narrative"
    ]
   },
   "source": [
    "History starts in the archives. There's a joy in the sorting of, and note-taking about, the riches that spill forth from a box of primary sources. We mark the documents that are vital for our research project, call on the expertise of an archivist to help find related boxes, and revel in the surprise of a weird document that doesn't fit quite yet but makes us laugh or cry or think about starting a new project. Opening the box is the easiest part of that discovery process."
   ]
  },
  {
   "cell_type": "markdown",
   "metadata": {
    "tags": [
     "narrative"
    ]
   },
   "source": [
    "Digital-history analysis starts with a box as well, but opening the box is a barrier rather than a gateway. When historians import historical documents into digital tools for analysis, we are putting our documents back into boxes; \"computational black boxes\" to be exact. Bruno Latour describes computational black boxes, roughly, as clusters of complex systems that are too complex to fully describe. Instead, we put boundaries around the complexity we can't handle. We feed in data, export results, and forget or ignore the algorithmic processes inside the box. Every search field we encounter leads to its own black box, its results freely available but its logic obscured, as ChatGPT taught us in 2023."
   ]
  },
  {
   "cell_type": "code",
   "execution_count": null,
   "metadata": {},
   "outputs": [],
   "source": []
  },
  {
   "cell_type": "markdown",
   "metadata": {
    "tags": [
     "narrative",
     "hermeneutics"
    ]
   },
   "source": [
    "Digital historians approach the analysis of change and continuity over time not by asking \"which computational black box will I prioritize\" but by asking questions of scale, audience, sourcing, and presentation that can then be treated with computational means and fully explored. The work of a microhistorian is shaped by the scale of the research, while public historians begin their work with questions of audience. Cultural and social historians differentiate their subfield methods by asking different questions and emphasizing the use of divergent types of documentary evidence to answer those questions. Digital historians generally blend digital history with another historical approach like social or cultural history. When digital historians engage in their analysis of a question generated by scale, scope, audience, or sourcing using a tool built by practitioners in another discipline, we inherit the research priorities of the people who built that tool. As a consequence, when there are methods sections in digital-history articles, those sections tend focus on how a tool developed by non-historians might support, or need to be adapted for, particular historical questions. Few digital tools, especially in the realm of network analysis, have been developed by and for historians with a specific eye to the methdological and theoretical explorations of design principles that anchor digital-history-specific tool development in historiographic practices."
   ]
  },
  {
   "cell_type": "markdown",
   "metadata": {
    "tags": [
     "narrative"
    ]
   },
   "source": [
    "This article introduces Design Based History Research (DBHR) as a methodological bridge between the use of digital tools in historical argumentation, digital-humanities tool design, and social-science approaches to the integration of tool and method. We aim to illustrate DBHR by describing the design and use of Net.Create, a user-focused network-analysis tool that prioritizes historiographic practices (evidence interpretation, citation preservation, and historiographic debate) in its feature-development and user-interface choices. We document how the needs of digital historians, novice and expert alike shaped iterations of the Net.Create design process, explore the connections between specific tool features and their operation as historiographic practice, and delineate how Net.Create's features support the practice of network analysis in historical argumentation. As part of this iterative-design process, we will also address some of the human-computer-interaction analysis in the hermeneutic layer of the *Jounal of Digital History* platform<cite data-cite=\"32868/3BCHJ3EN\"></cite> and provide user-entered network data in the data layer, so that both HCI and data practices are visible in the shaping of each stage of our digital-history tool development process."
   ]
  },
  {
   "cell_type": "markdown",
   "metadata": {
    "tags": [
     "narrative",
     "hermeneutics"
    ]
   },
   "source": [
    "Our team's use of Design Based History Research (DBHR) as a guide for our tool and activity design process ultimately led us to prioritize tool features and methods for the use of those features that draw on three major design principles. These features support and encourage sustained historiographic debate at each phase of a network-analysis digital-history project, outlined in section XXXX below. Each of these design principles and user-interface choices, in turn, offers other digtal-historians a way to generalize our methods- and tool-design goals, evaluate their own in-development tools, and adapt tools developed in other disciplines for use in historical research. By documenting the historiographic roots of Net.Create's features, we hope to offer a systematic articulation of digital history tool design not simply as software development but as a pathway to the concurrent and intertwined development of historical theory, digital-history tools, and collaborative historical methods."
   ]
  },
  {
   "cell_type": "markdown",
   "metadata": {},
   "source": [
    "## An introduction to Design Based History Research (DBHR)"
   ]
  },
  {
   "cell_type": "markdown",
   "metadata": {},
   "source": [
    "### Design Based Research and the Iterative Loop between Theory Development, Applied Methods, and Research Impact"
   ]
  },
  {
   "cell_type": "markdown",
   "metadata": {
    "tags": [
     "narrative"
    ]
   },
   "source": [
    "Introducing DBHR requires us first to consider Design Based Research (DBR) sans the  \"H\".<cite data-cite=\"32868/D87SQ2TI\"></cite><cite data-cite=\"32868/R5XQP7RJ\"></cite> DBR is an approach to studying, modifying, and applying learning theory. Researchers seeking to understand how people learn use DBR by integrating a motivating educational theory into a tool and/or activity design, implementing their design, and then studying the learning outcomes from that design as a way of modifying both their motivating theory and the design that aims to reify the theory. The educational researchers making use of DBR stress its value in providing a way to assess the application of theory  through the development and design principles that guide, inform, and improve theory, practice, and research in educational contexts. As they are laid out below, the applicable principles of DBR, describe a relationship between the theory-driven development of a software design with its accompanying activities, the testing of that design in iterative stages that provide use-case scenarios for the revision of the thoery and the design in tandem, and the application of those revised theoretical principles with their practical design outcomes in other people's research and practice.<cite data-cite=\"32868/EMN6PG6E\"></cite>"
   ]
  },
  {
   "cell_type": "markdown",
   "metadata": {
    "tags": [
     "table-XXXX",
     "narrative"
    ]
   },
   "source": [
    "| DBR Principle (adapted from <cite data-cite=\"32868/EMN6PG6E\"></cite>) | Practical Educational Research Outcome |\n",
    "| :-- | :-- |\n",
    "| **Theory-driven development of educational design and methods** | <ul><li>Situated in a real educational context<li>Focused on the design and testing of a significant intervention</ul> |\n",
    "| **Applied iterative theory developed with practitioners** | <ul><li>Testing of design and methods shapes revision of theory; Revised theory offers insight into design and methods revisions<li>Emphasizes mixed-methods approaches and collaboration</ul> |\n",
    "| **Should have impact in both research and practice** | <ul><li>Develops research-driven design theory for use by other researchers<li>Provides guidance for adoption by other practitioners</ul> |"
   ]
  },
  {
   "cell_type": "markdown",
   "metadata": {
    "tags": [
     "narrative"
    ]
   },
   "source": [
    "Adapting DBR to DBHR starts with the acknowledgement that the article \"the\" in \"the historical method\" isn't a monolith. The historical method governs not a singular approach to history--a single, well-articulated, unified \"the\"--but a wide variety of praxis, theory, and individual approaches to the study of the past that puts archival source material in conversation with other historical experts. Questions of scale, audience, sourcing, and presentation all shape these conversations, whether we put those questions in a methods section or not. The work of a microhistorian is shaped by the scale of the research, while public historians begin their work with questions of audience. Cultural and social historians differentiate their subfield methods by asking different questions and emphasizing the use of divergent types of documentary evidence to answer those questions. Public historians have developed methods to evaluate format, audience movement and public interaction as part of exhibit design for both in-person and digital public-history exhibits.<cite data-cite=\"32868/ADV4GAQV\"></cite> In our teaching, historians communicate a reasonably well-developed description of each of these methdologies, which aligns our field with the social-science approach that says defined methods should be included in published scholarship.<cite data-cite=\"32868/Z2USYDSR\"></cite>"
   ]
  },
  {
   "cell_type": "markdown",
   "metadata": {
    "tags": [
     "narrative"
    ]
   },
   "source": [
    "At the same time, the work of a historian is also guided by hermeneutics and researcher positionality, two subjective considerations that eschew methods sections. Historians attempt objectivity but with much less focus on the repeatability of null-hypothesis studies.<cite data-cite=\"32868/I7VZY2PE\"></cite> These disciplinary values eschew more formal methods sections.<cite data-cite=\"32868/BNNGRRLH\"></cite> As a result, tool design in the context of a field that both relies on, and leans away from, documenting its own research methods can be something of a challenge. Framing the iterative process of change and continuity over time as the key component of DBHR, and of the tool designs rooted in it, allows digital-history tool designers to use historiography as a guiding principle for both their tool design and to provide a foundation for the articulation of the historical method for other historians using those tools. This framing "
   ]
  },
  {
   "cell_type": "markdown",
   "metadata": {},
   "source": [
    "### Adapting Design Based Research Using Historiography as the Driving Theoretical Framework"
   ]
  },
  {
   "cell_type": "markdown",
   "metadata": {
    "tags": [
     "table-XXXX",
     "narrative"
    ]
   },
   "source": [
    "| DBR | becomes | DBHR |\n",
    "| :-- | :-- | :-- |\n",
    "| Theory-driven development of educational design and methods |  | **Historiography-driven development of tools and methods to use those tools in order to answer questions about change and continuity over time** |\n",
    "| Applied iterative theory developed with practitioners |  | **Refine and iterate design & methods based on resulting historical argument and how that argument fits into existing historiography** |\n",
    "| Impact in both research and practice |  | **Impact in both argument-driven history and digital history and use by historians in both subfields** |"
   ]
  },
  {
   "cell_type": "markdown",
   "metadata": {
    "tags": [
     "table-XXXX",
     "narrative"
    ]
   },
   "source": [
    "| DB**H**R Principle | Practical Digital-History Design Research Outcome |\n",
    "| :-- | :-- |\n",
    "| **Historiography-driven development of tools and methods to use those tools in order to answer questions about change and continuity over time** | <ul><li>Situated in historiography<li>Focused on the gaps between historiographic need and existing design and method</ul> |\n",
    "| **Refine and iterate design & methods based on resulting historical argument and how that argument fits into existing historiography** | <ul><li>Small-scale testing to evaluate how tool/method design shape historical argument<li>Revised argument offers insight into design and methods revisions<li>Emphasizes mixed-methods approaches through proof-of-concept collaboration</ul> |\n",
    "| **Should have mpact in both argument-driven history and digital history** | <ul><li>Produces tools designed for and by other historians<li>Articulates methods that link tools to appropriate continuity-and-change questions<li>Contributes to historiography through change/continuity-over-time arguments</ul> |"
   ]
  },
  {
   "cell_type": "markdown",
   "metadata": {},
   "source": [
    "## Why Network Analysis? Reshaping Network Tools and Activities for Historians Using DBHR"
   ]
  },
  {
   "cell_type": "markdown",
   "metadata": {
    "tags": [
     "narrative",
     "hermeneutics"
    ]
   },
   "source": [
    "The governing principle of DBHR is that a concrete set of design choices rooted in historiographic principles can be iterated, tested, and redesigned to create a digital tool that doesn't just support, but encourages and furthers, historical analysis for users with a variety of historical experience. To illustrate that process, we now proceed to outline a series of design choices made over the course of 5 years during the development of Net.Create. As part of that exploration, it's worth outlining the basic principles of network analysis before then moving to the historiographic principles on which Net.Create's development was based. The first thing people notice when they view a network visualization for the first time are the circles and lines. Those circles are nodes--people, places, things--or the nouns in a network. Edges, or lines, represent an interaction between two nodes, creating a node-edge pair or dyad. Each dyad, in turn, aggregates to form a network comprised of many interactions; nodes that have the most interactions, or degrees, are represented as larger circles with a higher measure of degree centrality."
   ]
  },
  {
   "cell_type": "markdown",
   "metadata": {
    "tags": [
     "narrative",
     "hermeneutics"
    ]
   },
   "source": [
    "Digital historians have offered many ways to understand historical significance through the lens of network analysis. CITE The simplest approach to historical argumentation through networks suggests that these high-degree-central nodes represented as large circles, are historically significant because they appear regularly in primary sources. CITE Below, for instance, we can see the nodes and edges that represent one version of the connections between members of the Julio-Claudian court describied in Tacitus' Annals, a second-century history of the late Roman Empire.<cite data-cite=\"32868/LWIUPFXH\"></cite> In this version of Tacitus' network, which was built by students in a process we'll address in section XXXX, the two largest nodes are labeled \"Claudius\" and \"Agrippina\". Emperor Claudius has 44 edges that link him to other nodes, for a degree-centrality measurement of 44; his fourth wife Agrippina's is 43, so the two nodes are similarly weighted in, or demonstrate a significant role in the historical events represented by, this network."
   ]
  },
  {
   "cell_type": "markdown",
   "metadata": {
    "tags": [
     "narrative",
     "hermeneutics"
    ]
   },
   "source": [
    "The aggregation of many node-edge pairs also allows historians to identify different kinds of significance. For instance, a class of undergraduates who built this network using their reading of Tacitus, were able to independently identify outliers because of their low-degree centrality (small, or even unconnected isolate, nodes). We4 power brokers who form points of connection between factions in a network.<cite data-cite=\"32868/KWEIABPM\"></cite><cite data-cite=\"32868/G6AXUCDT\"></cite><cite data-cite=\"32868/5NB67TI3\"></cite> For instance, in the network below, Octavia has a degree-centrality measure of 7, a much lower degree-centrality measure than either Claudius or Agrippina, but she is a connector between several very high-degree nodes, including Claudius and Agrippina; her betweenness-centrality meausure--that is, her connection to significant historical actors whose role in the historical events of the Julio-Claudian dynasty is very visible--is high even if her degree-centrality measure is not."
   ]
  },
  {
   "cell_type": "code",
   "execution_count": 9,
   "metadata": {
    "scrolled": true,
    "tags": [
     "figure-XXXX",
     "narrative",
     "hermeneutics"
    ]
   },
   "outputs": [
    {
     "data": {
      "text/html": [
       "\n",
       "        <iframe\n",
       "            width=\"100%\"\n",
       "            height=\"1000\"\n",
       "            src=\"https://netcreate.org/SampleNetworks/Package/?dataset=2019-02-06_TacitusGender#/\"\n",
       "            frameborder=\"0\"\n",
       "            allowfullscreen\n",
       "            \n",
       "        ></iframe>\n",
       "        "
      ],
      "text/plain": [
       "<IPython.lib.display.IFrame at 0x7f94b4f08390>"
      ]
     },
     "metadata": {},
     "output_type": "display_data"
    }
   ],
   "source": [
    "from IPython.display import IFrame\n",
    "src='https://netcreate.org/SampleNetworks/Package/?dataset=2019-02-06_TacitusGender#/'\n",
    "display(IFrame(src, width='100%', height='1000'))"
   ]
  },
  {
   "cell_type": "code",
   "execution_count": 9,
   "metadata": {
    "tags": [
     "data"
    ]
   },
   "outputs": [
    {
     "data": {
      "text/plain": [
       "'3.7.13'"
      ]
     },
     "execution_count": 9,
     "metadata": {},
     "output_type": "execute_result"
    }
   ],
   "source": [
    "# Check your Python version\n",
    "from platform import python_version\n",
    "python_version()\n",
    "\n",
    "#!python -V"
   ]
  },
  {
   "cell_type": "code",
   "execution_count": 10,
   "metadata": {
    "tags": [
     "data"
    ]
   },
   "outputs": [],
   "source": [
    "# pandas package needs to be added to the requirements.txt's file\n",
    "import pandas as pd"
   ]
  },
  {
   "cell_type": "code",
   "execution_count": 11,
   "metadata": {
    "tags": [
     "table-XXXX",
     "data"
    ]
   },
   "outputs": [
    {
     "data": {
      "text/html": [
       "<div>\n",
       "<style scoped>\n",
       "    .dataframe tbody tr th:only-of-type {\n",
       "        vertical-align: middle;\n",
       "    }\n",
       "\n",
       "    .dataframe tbody tr th {\n",
       "        vertical-align: top;\n",
       "    }\n",
       "\n",
       "    .dataframe thead th {\n",
       "        text-align: right;\n",
       "    }\n",
       "</style>\n",
       "<table border=\"1\" class=\"dataframe\">\n",
       "  <thead>\n",
       "    <tr style=\"text-align: right;\">\n",
       "      <th></th>\n",
       "      <th>ID</th>\n",
       "      <th>Size</th>\n",
       "      <th>Unnamed: 2</th>\n",
       "      <th>Source</th>\n",
       "      <th>Type</th>\n",
       "      <th>Target</th>\n",
       "      <th>Citation</th>\n",
       "      <th>Signficance</th>\n",
       "      <th>Approximate Date of Interaction</th>\n",
       "    </tr>\n",
       "  </thead>\n",
       "  <tbody>\n",
       "    <tr>\n",
       "      <th>0</th>\n",
       "      <td>26</td>\n",
       "      <td>1</td>\n",
       "      <td>Edit</td>\n",
       "      <td>Valerius Asiaticus</td>\n",
       "      <td>has martial or adversarial interaction with</td>\n",
       "      <td>Poppaea</td>\n",
       "      <td>11.01</td>\n",
       "      <td>former lover</td>\n",
       "      <td>NaN</td>\n",
       "    </tr>\n",
       "    <tr>\n",
       "      <th>1</th>\n",
       "      <td>162</td>\n",
       "      <td>1</td>\n",
       "      <td>Edit</td>\n",
       "      <td>Messalina</td>\n",
       "      <td>has martial or adversarial interaction with</td>\n",
       "      <td>Valerius Asiaticus</td>\n",
       "      <td>11.01</td>\n",
       "      <td>successful imprisonment</td>\n",
       "      <td>NaN</td>\n",
       "    </tr>\n",
       "    <tr>\n",
       "      <th>2</th>\n",
       "      <td>245</td>\n",
       "      <td>1</td>\n",
       "      <td>Edit</td>\n",
       "      <td>Claudius</td>\n",
       "      <td>sends written communication to</td>\n",
       "      <td>Crispinus</td>\n",
       "      <td>11.01</td>\n",
       "      <td>sends to baiae</td>\n",
       "      <td>NaN</td>\n",
       "    </tr>\n",
       "    <tr>\n",
       "      <th>3</th>\n",
       "      <td>259</td>\n",
       "      <td>1</td>\n",
       "      <td>Edit</td>\n",
       "      <td>Crispinus</td>\n",
       "      <td>has martial or adversarial interaction with</td>\n",
       "      <td>Valerius Asiaticus</td>\n",
       "      <td>11.01</td>\n",
       "      <td>imprisons valerius</td>\n",
       "      <td>NaN</td>\n",
       "    </tr>\n",
       "    <tr>\n",
       "      <th>4</th>\n",
       "      <td>310</td>\n",
       "      <td>1</td>\n",
       "      <td>Edit</td>\n",
       "      <td>Sosibius</td>\n",
       "      <td>has peaceful, familial or conversational inter...</td>\n",
       "      <td>Britannicus</td>\n",
       "      <td>11.01</td>\n",
       "      <td>tutored</td>\n",
       "      <td>NaN</td>\n",
       "    </tr>\n",
       "    <tr>\n",
       "      <th>...</th>\n",
       "      <td>...</td>\n",
       "      <td>...</td>\n",
       "      <td>...</td>\n",
       "      <td>...</td>\n",
       "      <td>...</td>\n",
       "      <td>...</td>\n",
       "      <td>...</td>\n",
       "      <td>...</td>\n",
       "      <td>...</td>\n",
       "    </tr>\n",
       "    <tr>\n",
       "      <th>210</th>\n",
       "      <td>243</td>\n",
       "      <td>1</td>\n",
       "      <td>Edit</td>\n",
       "      <td>Herculeius</td>\n",
       "      <td>has peaceful, familial or conversational inter...</td>\n",
       "      <td>Anicetus</td>\n",
       "      <td>14.08</td>\n",
       "      <td>Joins Anicetus to kill Agrippina</td>\n",
       "      <td>NaN</td>\n",
       "    </tr>\n",
       "    <tr>\n",
       "      <th>211</th>\n",
       "      <td>256</td>\n",
       "      <td>1</td>\n",
       "      <td>Edit</td>\n",
       "      <td>Obaritus</td>\n",
       "      <td>has peaceful, familial or conversational inter...</td>\n",
       "      <td>Anicetus</td>\n",
       "      <td>14.8</td>\n",
       "      <td>Accompanies Anicetus to kill Agrippina</td>\n",
       "      <td>NaN</td>\n",
       "    </tr>\n",
       "    <tr>\n",
       "      <th>212</th>\n",
       "      <td>358</td>\n",
       "      <td>1</td>\n",
       "      <td>Edit</td>\n",
       "      <td>Murder of Agrippina</td>\n",
       "      <td>participates in</td>\n",
       "      <td>Political Murder</td>\n",
       "      <td>14.9-11</td>\n",
       "      <td>Murders his politically ambitious mother, who ...</td>\n",
       "      <td>NaN</td>\n",
       "    </tr>\n",
       "    <tr>\n",
       "      <th>213</th>\n",
       "      <td>385</td>\n",
       "      <td>1</td>\n",
       "      <td>Edit</td>\n",
       "      <td>Agrippina</td>\n",
       "      <td>participates in</td>\n",
       "      <td>Political Murder</td>\n",
       "      <td>14.9-11</td>\n",
       "      <td>Murdered by Nero's men for her political ambit...</td>\n",
       "      <td>NaN</td>\n",
       "    </tr>\n",
       "    <tr>\n",
       "      <th>214</th>\n",
       "      <td>429</td>\n",
       "      <td>1</td>\n",
       "      <td>Edit</td>\n",
       "      <td>Tacitus</td>\n",
       "      <td>has peaceful, familial or conversational inter...</td>\n",
       "      <td>Students in this class</td>\n",
       "      <td>Self-evident</td>\n",
       "      <td>Learning</td>\n",
       "      <td>NaN</td>\n",
       "    </tr>\n",
       "  </tbody>\n",
       "</table>\n",
       "<p>215 rows × 9 columns</p>\n",
       "</div>"
      ],
      "text/plain": [
       "      ID  Size Unnamed: 2               Source  \\\n",
       "0     26     1       Edit   Valerius Asiaticus   \n",
       "1    162     1       Edit            Messalina   \n",
       "2    245     1       Edit             Claudius   \n",
       "3    259     1       Edit            Crispinus   \n",
       "4    310     1       Edit             Sosibius   \n",
       "..   ...   ...        ...                  ...   \n",
       "210  243     1       Edit           Herculeius   \n",
       "211  256     1       Edit             Obaritus   \n",
       "212  358     1       Edit  Murder of Agrippina   \n",
       "213  385     1       Edit            Agrippina   \n",
       "214  429     1       Edit              Tacitus   \n",
       "\n",
       "                                                  Type  \\\n",
       "0          has martial or adversarial interaction with   \n",
       "1          has martial or adversarial interaction with   \n",
       "2                       sends written communication to   \n",
       "3          has martial or adversarial interaction with   \n",
       "4    has peaceful, familial or conversational inter...   \n",
       "..                                                 ...   \n",
       "210  has peaceful, familial or conversational inter...   \n",
       "211  has peaceful, familial or conversational inter...   \n",
       "212                                    participates in   \n",
       "213                                    participates in   \n",
       "214  has peaceful, familial or conversational inter...   \n",
       "\n",
       "                     Target      Citation  \\\n",
       "0                   Poppaea         11.01   \n",
       "1        Valerius Asiaticus         11.01   \n",
       "2                 Crispinus         11.01   \n",
       "3        Valerius Asiaticus         11.01   \n",
       "4               Britannicus         11.01   \n",
       "..                      ...           ...   \n",
       "210                Anicetus         14.08   \n",
       "211                Anicetus          14.8   \n",
       "212        Political Murder       14.9-11   \n",
       "213        Political Murder       14.9-11   \n",
       "214  Students in this class  Self-evident   \n",
       "\n",
       "                                           Signficance  \\\n",
       "0                                         former lover   \n",
       "1                              successful imprisonment   \n",
       "2                                       sends to baiae   \n",
       "3                                   imprisons valerius   \n",
       "4                                              tutored   \n",
       "..                                                 ...   \n",
       "210                   Joins Anicetus to kill Agrippina   \n",
       "211             Accompanies Anicetus to kill Agrippina   \n",
       "212  Murders his politically ambitious mother, who ...   \n",
       "213  Murdered by Nero's men for her political ambit...   \n",
       "214                                           Learning   \n",
       "\n",
       "     Approximate Date of Interaction  \n",
       "0                                NaN  \n",
       "1                                NaN  \n",
       "2                                NaN  \n",
       "3                                NaN  \n",
       "4                                NaN  \n",
       "..                               ...  \n",
       "210                              NaN  \n",
       "211                              NaN  \n",
       "212                              NaN  \n",
       "213                              NaN  \n",
       "214                              NaN  \n",
       "\n",
       "[215 rows x 9 columns]"
      ]
     },
     "execution_count": 11,
     "metadata": {},
     "output_type": "execute_result"
    }
   ],
   "source": [
    "df = pd.read_csv(\"script/Tacitus_StudentNodes_2019-10.csv\")\n",
    "df"
   ]
  },
  {
   "cell_type": "code",
   "execution_count": 12,
   "metadata": {
    "tags": [
     "table-XXXX",
     "data"
    ]
   },
   "outputs": [
    {
     "data": {
      "text/html": [
       "<div>\n",
       "<style scoped>\n",
       "    .dataframe tbody tr th:only-of-type {\n",
       "        vertical-align: middle;\n",
       "    }\n",
       "\n",
       "    .dataframe tbody tr th {\n",
       "        vertical-align: top;\n",
       "    }\n",
       "\n",
       "    .dataframe thead th {\n",
       "        text-align: right;\n",
       "    }\n",
       "</style>\n",
       "<table border=\"1\" class=\"dataframe\">\n",
       "  <thead>\n",
       "    <tr style=\"text-align: right;\">\n",
       "      <th></th>\n",
       "      <th>Unnamed: 0</th>\n",
       "      <th>Degrees</th>\n",
       "      <th>Label</th>\n",
       "      <th>Type</th>\n",
       "      <th>Geocode or Date</th>\n",
       "      <th>Significance</th>\n",
       "    </tr>\n",
       "  </thead>\n",
       "  <tbody>\n",
       "    <tr>\n",
       "      <th>0</th>\n",
       "      <td>Edit</td>\n",
       "      <td>1.0</td>\n",
       "      <td>Accusations leveled against Agrappina</td>\n",
       "      <td>Event</td>\n",
       "      <td>NaN</td>\n",
       "      <td>A group of people leveled accusations against ...</td>\n",
       "    </tr>\n",
       "    <tr>\n",
       "      <th>1</th>\n",
       "      <td>Edit</td>\n",
       "      <td>1.0</td>\n",
       "      <td>Acerronia</td>\n",
       "      <td>Woman</td>\n",
       "      <td>NaN</td>\n",
       "      <td>Female slave of Agrippina</td>\n",
       "    </tr>\n",
       "    <tr>\n",
       "      <th>2</th>\n",
       "      <td>Edit</td>\n",
       "      <td>1.0</td>\n",
       "      <td>Acte</td>\n",
       "      <td>Woman</td>\n",
       "      <td>NaN</td>\n",
       "      <td>Freedwoman that Nero had an affair with.</td>\n",
       "    </tr>\n",
       "    <tr>\n",
       "      <th>3</th>\n",
       "      <td>Edit</td>\n",
       "      <td>3.0</td>\n",
       "      <td>Adultery</td>\n",
       "      <td>Thing</td>\n",
       "      <td>NaN</td>\n",
       "      <td>a common thread</td>\n",
       "    </tr>\n",
       "    <tr>\n",
       "      <th>4</th>\n",
       "      <td>Edit</td>\n",
       "      <td>3.0</td>\n",
       "      <td>Aedui</td>\n",
       "      <td>Group</td>\n",
       "      <td>NaN</td>\n",
       "      <td>One of the prominent Gallic Tribes</td>\n",
       "    </tr>\n",
       "    <tr>\n",
       "      <th>...</th>\n",
       "      <td>...</td>\n",
       "      <td>...</td>\n",
       "      <td>...</td>\n",
       "      <td>...</td>\n",
       "      <td>...</td>\n",
       "      <td>...</td>\n",
       "    </tr>\n",
       "    <tr>\n",
       "      <th>114</th>\n",
       "      <td>Edit</td>\n",
       "      <td>1.0</td>\n",
       "      <td>Vipstanus</td>\n",
       "      <td>Man</td>\n",
       "      <td>NaN</td>\n",
       "      <td>Consul</td>\n",
       "    </tr>\n",
       "    <tr>\n",
       "      <th>115</th>\n",
       "      <td>Edit</td>\n",
       "      <td>8.0</td>\n",
       "      <td>Vitellius</td>\n",
       "      <td>Man</td>\n",
       "      <td>NaN</td>\n",
       "      <td>Censor</td>\n",
       "    </tr>\n",
       "    <tr>\n",
       "      <th>116</th>\n",
       "      <td>Edit</td>\n",
       "      <td>2.0</td>\n",
       "      <td>Xenophon</td>\n",
       "      <td>Man</td>\n",
       "      <td>NaN</td>\n",
       "      <td>Claudius’ doctor</td>\n",
       "    </tr>\n",
       "    <tr>\n",
       "      <th>117</th>\n",
       "      <td>Edit</td>\n",
       "      <td>1.0</td>\n",
       "      <td>scipio</td>\n",
       "      <td>Man</td>\n",
       "      <td>NaN</td>\n",
       "      <td>poppaea’s husband</td>\n",
       "    </tr>\n",
       "    <tr>\n",
       "      <th>118</th>\n",
       "      <td>Edit</td>\n",
       "      <td>2.0</td>\n",
       "      <td>senate awards funds</td>\n",
       "      <td>Event</td>\n",
       "      <td>NaN</td>\n",
       "      <td>money is awarded by the senate to those who ad...</td>\n",
       "    </tr>\n",
       "  </tbody>\n",
       "</table>\n",
       "<p>119 rows × 6 columns</p>\n",
       "</div>"
      ],
      "text/plain": [
       "    Unnamed: 0  Degrees                                  Label   Type  \\\n",
       "0         Edit      1.0  Accusations leveled against Agrappina  Event   \n",
       "1         Edit      1.0                              Acerronia  Woman   \n",
       "2         Edit      1.0                                   Acte  Woman   \n",
       "3         Edit      3.0                               Adultery  Thing   \n",
       "4         Edit      3.0                                  Aedui  Group   \n",
       "..         ...      ...                                    ...    ...   \n",
       "114       Edit      1.0                              Vipstanus    Man   \n",
       "115       Edit      8.0                              Vitellius    Man   \n",
       "116       Edit      2.0                               Xenophon    Man   \n",
       "117       Edit      1.0                                 scipio    Man   \n",
       "118       Edit      2.0                    senate awards funds  Event   \n",
       "\n",
       "     Geocode or Date                                       Significance  \n",
       "0                NaN  A group of people leveled accusations against ...  \n",
       "1                NaN                          Female slave of Agrippina  \n",
       "2                NaN           Freedwoman that Nero had an affair with.  \n",
       "3                NaN                                    a common thread  \n",
       "4                NaN                 One of the prominent Gallic Tribes  \n",
       "..               ...                                                ...  \n",
       "114              NaN                                             Consul  \n",
       "115              NaN                                             Censor  \n",
       "116              NaN                                   Claudius’ doctor  \n",
       "117              NaN                                  poppaea’s husband  \n",
       "118              NaN  money is awarded by the senate to those who ad...  \n",
       "\n",
       "[119 rows x 6 columns]"
      ]
     },
     "execution_count": 12,
     "metadata": {},
     "output_type": "execute_result"
    }
   ],
   "source": [
    "df = pd.read_csv(\"script/Tacitus_StudentEdges_2019-10.csv\")\n",
    "df"
   ]
  },
  {
   "cell_type": "markdown",
   "metadata": {},
   "source": [
    "### Identifying DBHR Opportunities: An Environmental Scan of Network Analysis Software Feature Needs"
   ]
  },
  {
   "cell_type": "markdown",
   "metadata": {
    "tags": [
     "narrative"
    ]
   },
   "source": [
    "Most network software packages in regular use by digital historians (Gephi<cite data-cite=\"32868/9IXJ2T2G\"></cite>, Cytoscape<cite data-cite=\"32868/EASDXMTU\"></cite>, Palladio<cite data-cite=\"32868/6KKNEIDS\"></cite>, to name a few) can support centrality measures and other statistically driven network measures. These software packages can divide a network into smaller subnetworks, or identify the shortest path between two actors in the network to analyze the spread of information in a network. Network analysis tools built for and by data and computer scientists are designed precisely to address these sorts of questions about centrality and affinity, particularly for networks at scale, such as the big-data networks that place individual social media interactions in a global-internet context. At the same time, the features and data requirements of other network-analysis software packages can be barriers to the practices necessary to support, much less encourage, historical-data practices. In particular, many network datasets are downloaded; they are *data* that is given, in the true definition of data, to a research team with pre-formulated categories for the actors in a network and rigid, predefined relationships between those actors.<cite data-cite=\"32868/5MZTR87M\"></cite> By contrast, historians work with *capta*<cite data-cite=\"32868/KDHLEAN5\"></cite>, or \"artisanal\" information captured and transformed via the interpretive process. Some historical network capta is hand-gathered, annotated, and transformed using custom taxonomy (categories for nodes, edges, and attributes or notes that accompany the node-edge pair information); other historical network data can be downloaded, but it is rarely organized in a taxonomy appropriate to the historical analysis at hand and needs to be annotated and transformed via the same interpretive processes that govern hand-gathered capta."
   ]
  },
  {
   "cell_type": "markdown",
   "metadata": {
    "tags": [
     "narrative"
    ]
   },
   "source": [
    "We first encountered these barriers in a classroom encounter with historical network analysis. One of our team wanted to use network analysis to help students identify, and trace the interactions between, historical agents from a complex historical source but found it impossible to build a coherent network dataset from scratch in a classroom with 75 students working on that dataset simultaneously. There were too many different ways to reference  historical actors and too few large-scale-data-management tools available to us. The simple, partial solutions we crafted to solve that issue were immediately salient to one of those instructor's network-analysis research projects, which involved collaboratively building a network of historical interactions from archival sources from scratch. This experience inspired a series of conversations that anchored those early, related, classroom and research experiences in a larger-scale design process."
   ]
  },
  {
   "cell_type": "markdown",
   "metadata": {
    "tags": [
     "narrative"
    ]
   },
   "source": [
    "Over the course of a multi-year DBHR redesign-and-revision process--a process outlined in brief in tables XXXX and XXXX and fully articulated in the sections that follow--our team of historical and network-analysis methods experts and tool designers, in cooperation with our users, identified a number of gaps in existing network analysis software packages that have implications for historians using network analysis. First, many network analysis packages require researchers to establish a fairly rigid node and edge taxonomy in advance. That is, researchers need to determine the types of nodes and edges that will be collected from a network-data source and define how different node types will connect to each other before beginning to enter data. This requirement means that network-analysis software packages often cannot accommodate developing understanding of relationships. Second, many network analysis packages are designed for self-contained datasets and as a result, don't automatically accommodate citations at the individual-data-point level. Optional attribute fields can be added, but the optional nature of those attributes means that citations are often overlooked at the individual node-and-edge level. Third, network analysis software packages are primarily designed for individual researchers working with large-scale scraped or pre-prepped datasets, not for historians drawing structured network data through interpretive processes from unstructured sources with colleagues. Johanna Drucker calls this process of gathering, debating, and shaping humanities data *capta*. Because the labor-intensive nature of *capta* is often collaborative and conversational, there's an unfilled need for research teams to simultaneously enter and respond to points of information being provided by other researchers."
   ]
  },
  {
   "cell_type": "markdown",
   "metadata": {
    "tags": [
     "narrative"
    ]
   },
   "source": [
    "In our first attempt to establish, and then prioritize, a list of features that would reshape practices of network analysis around principles of the historical method, we identified flexible taxonomy and a clear citation requirement for each network data point drawn from a historical source. As we explored why these two features were so important for historians using network analysis, our inquiry process around the took highlighted several other data features and network-visualization features that we felt were missing or not fully developed, from the perspective of the historical method, in other network analysis software packages. In Table XXXX, we list three design needs we identified by considering historiographic principles, each of which has several user-interface design choices associated with it in Net.Create. The different user-interface and data-structure elements that support these three design needs were added at various points in the tool design process. Some were driven by the research team's initial scan of network-analysis software package features that served historiographic principles less well, while others were driven by the research team's observation of how novice historians interacted with the network graphs and data tables and how they connected the network data/graph to the original sources as they crafted historical arguments."
   ]
  },
  {
   "cell_type": "markdown",
   "metadata": {
    "tags": [
     "narrative",
     "hermeneutics"
    ]
   },
   "source": [
    "Our design goal for Net.Create was not to create yet another fully-functional network analysis package. Rather, we aimed build a tool that would focus on a few key features, drawing on the presentation and input of network data and on centrality measures in network analysis practices to foster moments of historical analysis (both in terms of historical-network-analysis and traditional historical analysis) that might otherwise not have happened. We sought to identify how we might reshape the tools that govern network-analysis experiences to better support historians, initially based on our own classroom and research experiences and then iteratively with a variety of historians working on network-analysis projects of varying levels, by crafting crafted a multi-disciplinary team of network analysts, historians, and educational researchers. That set of participants allowed us to better understand how people learn, how historians work with networks, and how network best practices function to support many kinds of analysis. We then expanded our work to engage with entry-level historians in history clasrooms to explore the potental history-learning moments that network analysis offered, and to see which sorts of history and network analysis best supported each other. Finally, we worked with practicing historians with entry-level network analysis skill to align our understanding of those learning processes across several historical-methods and network analysis skill levels."
   ]
  },
  {
   "cell_type": "markdown",
   "metadata": {
    "tags": [
     "narrative",
     "hermeneutics"
    ]
   },
   "source": [
    "We did not identify all of these needs, or the features we developed to meet these needs, at once, or at the beginning of the Net.Create project, which points to an additional benefit of DBHR as a digital-history: its long-term value as a way to build expertise across interdisciplinary teams. DBHR offered an ongoing assessment process that accommodates, and responds to, both designer and user needs and builds expertise both in the tool design itself and in the methods that scaffold tool usage. In each of 6 stages of redesign, we addressed either a user-interface or data choice within the Net.Create tool or the specific instructions we used to scaffold use of the Net.Create tool by teams of historians. We then analyzed the resulting behaviors and datasets in order to establish a concrete list of current barriers to the historical method in existing network-analysis user interfaces, explore the possible user-interface or user-activity design principles that would reshape network analysis practices around the hisitorical method, and then enacted those design principles in case studies with practicing historians of all levels."
   ]
  },
  {
   "cell_type": "markdown",
   "metadata": {
    "tags": [
     "narrative",
     "table-XXXX",
     "hermeneutics"
    ]
   },
   "source": [
    "A theoretical overview of the historiographic foundations of Net.Create's DBHR-driven feature development.\n",
    "\n",
    "| Net.Create Design Iteration | Design Need | Technical Implication | Historiographic Foundation |\n",
    "| :--| :--| :--| :--|\n",
    "| 0.02, 1, 1.1, 1.2 | simultaneous entry and visualization of *capta* |data that is gathered and contested rather than downloaded or received | support and encourage historiographic debate during the data-gathering phase and prior to a formal analysis phase. *Capta* offers an operating principle for focusing capture of information through debate. |\n",
    "|0.01, 0.02, 1, 1.2 | easy-to-use revision of network data and taxonomy | support interpretation, reinterpretation and re-input of evidence and data by many collaborators simultaneously, synchronously or asynchronously, during the initial analysis phase |revision and re-entry of *capta* that emphasizes the interpretive and conversational nature of historiographic debate |\n",
    "|0.01, 0.03, 1.1, 1.2, 1.4 |data provenance on several levels (citation, revision tracking, researcher contributions) |support the integration of close-reading analytical practices both by the research team and by other historians after the communication of results to a public audience |data provenance features preserve links to citation and researcher as a path to transparency for our adiences and to emphasze the importansce of sourcing and  expose the researchers' positionality and preserve the original citations for each network datapoint |"
   ]
  },
  {
   "cell_type": "markdown",
   "metadata": {
    "tags": [
     "narrative",
     "table-XXXX"
    ]
   },
   "source": [
    "A time-based and audience-based overview of Net.Create's DBHR-driven feature development.\n",
    "\n",
    "| Date | Version  | Primary feature focus                                       |Design/methods responsibilities  | User-audience testing   |\n",
    "|------|----------|------------------------------------------------------------|----------------------------------|----------------------------------|\n",
    "| 2015 | 0.01     | Network data entry with citations                          |Craig responsible for solo coding, UI feature design, testing/user-activity design | Mid-sized classrooms (75-100 students) and small history-research teams with Net.Create research team members on them |\n",
    "| 2016 | 0.02     | Simultaneous data entry                                    |Craig | |\n",
    "| 2017 | 0.03     | Customized notes and location fields                       |Craig | |\n",
    "| 2018 | 1        | Live visualization, predictive text                        |Collaboration between Craig, Danish, Inquirium | Large classrooms (100+) and history research teams both with and without Net.Create members |\n",
    "| 2020 | 1.1, 1.2 | Custom tags                                                | | |\n",
    "| 2022 | 1.2, 1.3 | Filtering, GUI-based node/edge type changes, import/export | | |"
   ]
  },
  {
   "cell_type": "markdown",
   "metadata": {},
   "source": [
    "## Software Versioning as History: Tracing the Iterative DBHR Interventions in Net.Create's Feature Set"
   ]
  },
  {
   "cell_type": "markdown",
   "metadata": {},
   "source": [
    "### Citation and Note-Taking as Early-Stage Practices to Support Networks in History (Version 0.01 in 2015)"
   ]
  },
  {
   "cell_type": "markdown",
   "metadata": {
    "tags": [
     "narrative"
    ]
   },
   "source": [
    "Our first exploration into network tool design was in data entry. We briefly noted earlier that the first official stage of our network-analysis DBHR process started in a classroom. Students in the third unit of a a semester-long course on social and cultural reactions to outbreaks of bubonic plague taught by Craig were studying an outbreak of bubonic plague in Honolulu, HI. *Plague and Fire* <cite data-cite=\\\"32868/IRAIZC6T\\\"></cite> contains a detailed account of a bubonic plague outbreak in Honolulu that began in late 1899, peaked in an out-of-control fire set by a white-settler-dominated board of health in downtown Honolulu in early 1900, and resulted in the quarantine and displacement of native Hawaiians, Chinese and Japanese immigrants in the year that followed. Students in previous version of the course struggled to identify and trace the interactions of the many figures involved in this outbreak and its aftermath. We hypothesized that students would be more readily able to explore historical significance in the monograph's narrative if they were given a visualization that showed historical agents interacting, they might be able to better understand who had agency in this plague outbreak, who didn't, and who was affected."
   ]
  },
  {
   "cell_type": "markdown",
   "metadata": {
    "tags": [
     "narrative"
    ]
   },
   "source": [
    "Networks provided a useful tool to mediate student understanding of how people were connected. We leveraged activity theory to understand how learners in a classroom might understand these complex interactions. ACTIVITY THEORY PIECE HERE. Network analysis offered an ideal way to divide the contents of a large text like *Plague and Fire* among many students. Assigning a small excerpt from a large text, and asking students to take notes on their assigned excerpt, helped focus students on a small digestible portion of the reading. we first asked them to engage deeply with the contents of an excerpt, then place the information from their excerpt into the context of a co-created set of notes, and then visualize those notes as a network with its attendant centrality measures. We then used the process of *capta* to gather the building blocks of network analysis, transforming students' notes into node-edge pairs describing interactions drawn from the text."
   ]
  },
  {
   "cell_type": "markdown",
   "metadata": {
    "tags": [
     "narrative",
     "hermeneutics"
    ]
   },
   "source": [
    "As we identified the best mediators to help students understand the processes involved in reading a historical monograph using activity theory, we also identified citations as a necessity. Citations offer a direct line to historiographic debate; while in this case students were working with a monograph, not primary sources, the habit of citing and then drawing on other students' citations to debate interpretation of historical documents was a first step to introducing students to the historiographic debate.\n"
   ]
  },
  {
   "cell_type": "markdown",
   "metadata": {
    "tags": [
     "narrative"
    ]
   },
   "source": [
    "In order for students to use the series of interactions they recorded, as either a set of classroom-generated notes or a network, we needed two things. First, we needed a central place to collect simple network data; each interaction would be comprised of a source node and a target node so that we could track people, groups, places and things as they interacted with each other. Each network data point--the source node, target node, and interaction edge--would also need to be justified with a citation that supported revision and debate about the inclusion and form of that network edge. We took a human-engineering, rather than a software-engineering route, to build this first network. We built a Google form with human-readable field names mapped to nodes, node types, edges, and citations. We then gave students a clear sense of the historical interactions they should attend to. The resulting spreadsheet (data table XXXX) offered the instructor a simple platform that could be cleaned, and eventually sorted by citation page number or network actor (Table XXXX)."
   ]
  },
  {
   "cell_type": "code",
   "execution_count": 13,
   "metadata": {
    "tags": [
     "figure-XXXX",
     "hermeneutics"
    ]
   },
   "outputs": [
    {
     "data": {
      "text/html": [
       "\n",
       "        <iframe\n",
       "            width=\"100%\"\n",
       "            height=\"1000\"\n",
       "            src=\"script/PlagueAndFire_StudentSurvey_2015-11.html\"\n",
       "            frameborder=\"0\"\n",
       "            allowfullscreen\n",
       "            \n",
       "        ></iframe>\n",
       "        "
      ],
      "text/plain": [
       "<IPython.lib.display.IFrame at 0x7f4590ed6a10>"
      ]
     },
     "metadata": {},
     "output_type": "display_data"
    }
   ],
   "source": [
    "from IPython.display import IFrame\n",
    "src='script/PlagueAndFire_StudentSurvey_2015-11.html'\n",
    "display(IFrame(src, width='100%', height='1000'))"
   ]
  },
  {
   "cell_type": "code",
   "execution_count": 8,
   "metadata": {
    "tags": [
     "table-XXXX",
     "data"
    ]
   },
   "outputs": [
    {
     "data": {
      "text/html": [
       "<div>\n",
       "<style scoped>\n",
       "    .dataframe tbody tr th:only-of-type {\n",
       "        vertical-align: middle;\n",
       "    }\n",
       "\n",
       "    .dataframe tbody tr th {\n",
       "        vertical-align: top;\n",
       "    }\n",
       "\n",
       "    .dataframe thead th {\n",
       "        text-align: right;\n",
       "    }\n",
       "</style>\n",
       "<table border=\"1\" class=\"dataframe\">\n",
       "  <thead>\n",
       "    <tr style=\"text-align: right;\">\n",
       "      <th></th>\n",
       "      <th>Timestamp</th>\n",
       "      <th>Network Connection 1</th>\n",
       "      <th>Network Connection 2</th>\n",
       "      <th>Connection Type</th>\n",
       "      <th>Network Connection 1 Type</th>\n",
       "      <th>Network Connection 2 Type</th>\n",
       "      <th>Page no of connection</th>\n",
       "    </tr>\n",
       "  </thead>\n",
       "  <tbody>\n",
       "    <tr>\n",
       "      <th>0</th>\n",
       "      <td>11/16/2015 11:52:39</td>\n",
       "      <td>Emerson</td>\n",
       "      <td>Day</td>\n",
       "      <td>Good</td>\n",
       "      <td>Person</td>\n",
       "      <td>Person</td>\n",
       "      <td>71</td>\n",
       "    </tr>\n",
       "    <tr>\n",
       "      <th>1</th>\n",
       "      <td>11/16/2015 11:54:23</td>\n",
       "      <td>Emerson</td>\n",
       "      <td>Day</td>\n",
       "      <td>Good</td>\n",
       "      <td>Person</td>\n",
       "      <td>Person</td>\n",
       "      <td>71</td>\n",
       "    </tr>\n",
       "    <tr>\n",
       "      <th>2</th>\n",
       "      <td>11/16/2015 11:54:44</td>\n",
       "      <td>Li Khai Fai</td>\n",
       "      <td>Kong Tai Heong</td>\n",
       "      <td>Bad</td>\n",
       "      <td>Person</td>\n",
       "      <td>Person</td>\n",
       "      <td>pg. #35</td>\n",
       "    </tr>\n",
       "    <tr>\n",
       "      <th>3</th>\n",
       "      <td>11/16/2015 11:54:47</td>\n",
       "      <td>NaN</td>\n",
       "      <td>Emerson, Day, Wood</td>\n",
       "      <td>Bad</td>\n",
       "      <td>Group</td>\n",
       "      <td>Place</td>\n",
       "      <td>83</td>\n",
       "    </tr>\n",
       "    <tr>\n",
       "      <th>4</th>\n",
       "      <td>11/16/2015 11:54:53</td>\n",
       "      <td>Wood</td>\n",
       "      <td>Garvin</td>\n",
       "      <td>Good</td>\n",
       "      <td>Person</td>\n",
       "      <td>Person</td>\n",
       "      <td>171</td>\n",
       "    </tr>\n",
       "    <tr>\n",
       "      <th>...</th>\n",
       "      <td>...</td>\n",
       "      <td>...</td>\n",
       "      <td>...</td>\n",
       "      <td>...</td>\n",
       "      <td>...</td>\n",
       "      <td>...</td>\n",
       "      <td>...</td>\n",
       "    </tr>\n",
       "    <tr>\n",
       "      <th>137</th>\n",
       "      <td>11/16/2015 12:20:42</td>\n",
       "      <td>Hawaiian Aid Society</td>\n",
       "      <td>Refugees</td>\n",
       "      <td>Good</td>\n",
       "      <td>Group</td>\n",
       "      <td>Group</td>\n",
       "      <td>140</td>\n",
       "    </tr>\n",
       "    <tr>\n",
       "      <th>138</th>\n",
       "      <td>11/16/2015 12:21:30</td>\n",
       "      <td>Saito Miki</td>\n",
       "      <td>Emerson, Day, Wood</td>\n",
       "      <td>Bad</td>\n",
       "      <td>Person</td>\n",
       "      <td>Person</td>\n",
       "      <td>116</td>\n",
       "    </tr>\n",
       "    <tr>\n",
       "      <th>139</th>\n",
       "      <td>11/16/2015 12:22:33</td>\n",
       "      <td>Chinese citizen's conmittee</td>\n",
       "      <td>Board of health</td>\n",
       "      <td>Bad</td>\n",
       "      <td>Group</td>\n",
       "      <td>Group</td>\n",
       "      <td>Page 49 - didn't give right precautions to pro...</td>\n",
       "    </tr>\n",
       "    <tr>\n",
       "      <th>140</th>\n",
       "      <td>11/16/2015 12:23:29</td>\n",
       "      <td>Day</td>\n",
       "      <td>Honolulu</td>\n",
       "      <td>Bad</td>\n",
       "      <td>Person</td>\n",
       "      <td>Place</td>\n",
       "      <td>Plague outbreak</td>\n",
       "    </tr>\n",
       "    <tr>\n",
       "      <th>141</th>\n",
       "      <td>11/16/2015 12:24:44</td>\n",
       "      <td>Wood</td>\n",
       "      <td>US Board of Health</td>\n",
       "      <td>Good</td>\n",
       "      <td>Person</td>\n",
       "      <td>Group</td>\n",
       "      <td>196</td>\n",
       "    </tr>\n",
       "  </tbody>\n",
       "</table>\n",
       "<p>142 rows × 7 columns</p>\n",
       "</div>"
      ],
      "text/plain": [
       "               Timestamp         Network Connection 1 Network Connection 2  \\\n",
       "0    11/16/2015 11:52:39                      Emerson                  Day   \n",
       "1    11/16/2015 11:54:23                      Emerson                  Day   \n",
       "2    11/16/2015 11:54:44                  Li Khai Fai       Kong Tai Heong   \n",
       "3    11/16/2015 11:54:47                          NaN   Emerson, Day, Wood   \n",
       "4    11/16/2015 11:54:53                         Wood               Garvin   \n",
       "..                   ...                          ...                  ...   \n",
       "137  11/16/2015 12:20:42         Hawaiian Aid Society             Refugees   \n",
       "138  11/16/2015 12:21:30                  Saito Miki    Emerson, Day, Wood   \n",
       "139  11/16/2015 12:22:33  Chinese citizen's conmittee      Board of health   \n",
       "140  11/16/2015 12:23:29                          Day             Honolulu   \n",
       "141  11/16/2015 12:24:44                         Wood   US Board of Health   \n",
       "\n",
       "    Connection Type Network Connection 1 Type Network Connection 2 Type  \\\n",
       "0              Good                    Person                    Person   \n",
       "1              Good                    Person                    Person   \n",
       "2               Bad                    Person                    Person   \n",
       "3               Bad                     Group                     Place   \n",
       "4              Good                    Person                    Person   \n",
       "..              ...                       ...                       ...   \n",
       "137            Good                     Group                     Group   \n",
       "138             Bad                    Person                    Person   \n",
       "139             Bad                     Group                     Group   \n",
       "140             Bad                    Person                     Place   \n",
       "141            Good                    Person                     Group   \n",
       "\n",
       "                                 Page no of connection  \n",
       "0                                                   71  \n",
       "1                                                   71  \n",
       "2                                              pg. #35  \n",
       "3                                                   83  \n",
       "4                                                  171  \n",
       "..                                                 ...  \n",
       "137                                                140  \n",
       "138                                                116  \n",
       "139  Page 49 - didn't give right precautions to pro...  \n",
       "140                                   Plague outbreak   \n",
       "141                                                196  \n",
       "\n",
       "[142 rows x 7 columns]"
      ]
     },
     "execution_count": 8,
     "metadata": {},
     "output_type": "execute_result"
    }
   ],
   "source": [
    "df = pd.read_csv(\"script/PlagueAndFire_StudentEntries_2015-11.csv\")\n",
    "df"
   ]
  },
  {
   "cell_type": "markdown",
   "metadata": {
    "tags": [
     "narrative",
     "hermeneutics"
    ]
   },
   "source": [
    "The cleaned dataset, in turn, was intended to allow the instructor to distribute the notes to students as a table-based reading guide and transform the data into a network using Gephi that would offer degree-centrality measures as a first step to assessing the students' co-constructed understanding of historical significance in *Plague and Fire*. The two features from this human-engineered network activity (Net.Create v0.01) that were most salient for rounds 2 and 3 of our design process were oriented toward disambiguation and change over time. Some historical figures were referred to in several different ways. This helped students engage with some of the complexities that can make it difficult to identify significant moments in a historical primary source, but the ambiguity was a barrier to simplifying the interactions in network itself. Our instructor manually cleaned the student data, but the experience helped us identify the need for a feature that supports programmatic disambiguation without collapsing the historical references to a single, historically inaccurate (or historically incomplete) label. The second issue had to do with historical context. Because students could not immediately see their peers' data in an easily sorted form--or see the network visualization with labels and notes concurrently with their data entry--they struggled to see how their excerpt fit into the historical context of the monograph independently without instructor support. Despite these limitations, the activity supported a very lively historiographic debate about what mattered in *Plague and Fire*."
   ]
  },
  {
   "cell_type": "markdown",
   "metadata": {
    "tags": [
     "table-XXXX"
    ]
   },
   "source": [
    "INSERT NETWORK VIZ HERE"
   ]
  },
  {
   "cell_type": "markdown",
   "metadata": {},
   "source": [
    "### Simultaneous Data Entry with Locational and Time-based Data for Disambigution and to Emphasize Change over Time (Version 0.02 in 2016 and 0.03 in 2017)"
   ]
  },
  {
   "cell_type": "markdown",
   "metadata": {
    "tags": [
     "narrative"
    ]
   },
   "source": [
    "PHP. We hoped these would help with the live conversation, and it does some of that (e.g. \"Let's just use what's there\") but it turns out predictive text and simultaneous data visualization were necessary to do that fully. (Iteration! Theory building!)"
   ]
  },
  {
   "cell_type": "markdown",
   "metadata": {},
   "source": [
    "### Predictive Text and Simultaneous Data Visualization to Prioritize Historiographic Conversation (Version 1 in 2018)"
   ]
  },
  {
   "cell_type": "markdown",
   "metadata": {
    "tags": [
     "narrative"
    ]
   },
   "source": [
    "The prompt of a node or edge cropping up live in your peripheral vision actually changes the conversation that professional historians have, not just students.\n",
    "\n",
    "digital public historians whose iterative work acknowledges that history happens in public. This \"peripheral vision\" question acknowledges the role physical space plays in classrooms, but we drew on the theory of classroom space design (CITE MOSAIC) and considered how the concept of physical space and conversation might be adapted to support similar interactions in a computer-supported-collaborative space."
   ]
  },
  {
   "cell_type": "markdown",
   "metadata": {},
   "source": [
    "### Custom Tagging to Respond to Developing Historical Argumentation (Version 1.1 and 1.2 in 2020)"
   ]
  },
  {
   "cell_type": "markdown",
   "metadata": {},
   "source": []
  },
  {
   "cell_type": "markdown",
   "metadata": {},
   "source": [
    "### Filtering and Template Editing (Version 1.2 in 2020 and Version 1.3 in 2022)"
   ]
  },
  {
   "cell_type": "markdown",
   "metadata": {},
   "source": []
  }
 ],
 "metadata": {
  "celltoolbar": "Tags",
  "citation-manager": {
   "items": {}
  },
  "cite2c": {
   "citations": {
    "32868/3BCHJ3EN": {
     "DOI": "10.1515/jdh-2021-1008",
     "URL": "https://www.degruyter.com/document/doi/10.1515/jdh-2021-1008/html",
     "accessed": {
      "day": 27,
      "month": 2,
      "year": 2023
     },
     "author": [
      {
       "family": "Fickers",
       "given": "Andreas"
      },
      {
       "family": "Clavert",
       "given": "Frédéric"
      }
     ],
     "container-title": "Journal of Digital History",
     "id": "32868/3BCHJ3EN",
     "issue": "1",
     "issued": {
      "day": 1,
      "month": 9,
      "year": 2021
     },
     "language": "en",
     "page": "1-13",
     "page-first": "1",
     "title": "On pyramids, prisms, and scalable reading",
     "type": "article-journal",
     "volume": "1"
    },
    "32868/5MZTR87M": {
     "URL": "https://programminghistorian.org/en/lessons/creating-network-diagrams-from-historical-sources",
     "accessed": {
      "day": 9,
      "month": 3,
      "year": 2023
     },
     "author": [
      {
       "family": "Düring",
       "given": "Marten"
      }
     ],
     "container-title": "Programming Historian",
     "id": "32868/5MZTR87M",
     "issued": {
      "day": 18,
      "month": 2,
      "year": 2015
     },
     "language": "en",
     "shortTitle": "From Hermeneutics to Data to Networks",
     "title": "From Hermeneutics to Data to Networks: Data Extraction and Network Visualization of Historical Sources",
     "title-short": "From Hermeneutics to Data to Networks",
     "type": "article-journal"
    },
    "32868/5NB67TI3": {
     "URL": "https://www.cambridge.org/core/elements/network-turn/CC38F2EA9F51A6D1AFCB7E005218BBE5",
     "abstract": "Cambridge Core - Literary Theory - The Network Turn",
     "accessed": {
      "day": 9,
      "month": 3,
      "year": 2023
     },
     "author": [
      {
       "family": "Ahnert",
       "given": "Ruth"
      },
      {
       "family": "Ahnert",
       "given": "Sebastian E."
      },
      {
       "family": "Coleman",
       "given": "Catherine Nicole"
      },
      {
       "family": "Weingart",
       "given": "Scott B."
      }
     ],
     "id": "32868/5NB67TI3",
     "issued": {
      "month": 12,
      "year": 2020
     },
     "language": "en",
     "shortTitle": "The Network Turn",
     "title": "The Network Turn: Changing Perspectives in the Humanities",
     "title-short": "The Network Turn",
     "type": "book"
    },
    "32868/6KKNEIDS": {
     "URL": "https://hdlab.stanford.edu/palladio/",
     "accessed": {
      "day": 8,
      "month": 5,
      "year": 2021
     },
     "author": [
      {
       "family": "Edelstein",
       "given": "Dan"
      },
      {
       "family": "Coleman",
       "given": "Catherine Nicole"
      },
      {
       "family": "Jewett",
       "given": "Ethan"
      },
      {
       "family": "Wells",
       "given": "Eliza"
      },
      {
       "family": "Caviglia",
       "given": "Giorgio"
      },
      {
       "family": "Braude",
       "given": "Mark"
      }
     ],
     "id": "32868/6KKNEIDS",
     "issued": {
      "year": 2015
     },
     "title": "Palladio",
     "type": "book"
    },
    "32868/9IXJ2T2G": {
     "URL": "http://www.aaai.org/ocs/index.php/ICWSM/09/paper/view/154",
     "abstract": "Gephi is an open source software for graph and network analysis. It uses a 3D render engine to display large networks in real-time and to speed up the exploration. A flexible and multi-task architecture brings new possibilities to work with complex data sets and produce valuable visual results. We present several key features of Gephi in the context of interactive exploration and interpretation of networks. It provides easy and broad access to network data and allows for spatializing, filtering, navigating, manipulating and clustering. Finally, by presenting dynamic features of Gephi, we highlight key aspects of dynamic network visualization.",
     "author": [
      {
       "family": "Bastian, Mathieu",
       "given": ""
      },
      {
       "family": "Heymann, Sebastien",
       "given": ""
      },
      {
       "family": "Jacomy, Mathieu",
       "given": ""
      }
     ],
     "event": "International AAAI Conference on Weblogs and Social Media",
     "id": "32868/9IXJ2T2G",
     "issued": {
      "year": 2009
     },
     "title": "Gephi: An Open Source Software for Exploring and Manipulating Networks",
     "type": "paper-conference"
    },
    "32868/ADV4GAQV": {
     "URL": "https://academic.oup.com/edited-volume/34632/chapter/295050958",
     "abstract": "Since the popular emergence of the World Wide Web in the early 1990s, nothing has been clearer about the digital environment than that it changes at a breakneck pace, making it a constant challenge of adaptation for content providers. Public historians who may have come of age in the context of writing either concise wall labels for the public or extended scholarly articles and conference papers for their fellow historians might find the pace and the level of flexibility and interactivity of the Web disconcerting, but in the end, the advantages for the practice of public history are extensive. Breaking the constraints of a physical site by effectively using the Web leaves public historians constrained only by their time, resources, and imagination. This chapter deals specifically with the various modes of communication that are available to public historians through the use of new media.",
     "accessed": {
      "day": 3,
      "month": 4,
      "year": 2023
     },
     "author": [
      {
       "family": "Leon",
       "given": "Sharon"
      }
     ],
     "container-title": "The Oxford handbook of public history",
     "editor": [
      {
       "family": "Hamilton",
       "given": "Paula"
      },
      {
       "family": "Gardner",
       "given": "James B."
      }
     ],
     "id": "32868/ADV4GAQV",
     "issued": {
      "day": 5,
      "month": 10,
      "year": 2017
     },
     "language": "en",
     "note": "DOI: 10.1093/oxfordhb/9780199766024.013.2",
     "publisher": "Oxford University Press",
     "title": "Complexity and Collaboration: Doing Public History in Digital Environments",
     "type": "chapter",
     "volume": "1"
    },
    "32868/BNNGRRLH": {
     "DOI": "10.1093/jahist/jau184",
     "URL": "https://academic.oup.com/jah/article-lookup/doi/10.1093/jahist/jau184",
     "accessed": {
      "day": 31,
      "month": 1,
      "year": 2023
     },
     "author": [
      {
       "family": "Blevins",
       "given": "Cameron"
      }
     ],
     "container-title": "Journal of American History",
     "container-title-short": "Journal of American History",
     "id": "32868/BNNGRRLH",
     "issue": "1",
     "issued": {
      "day": 1,
      "month": 6,
      "year": 2014
     },
     "journalAbbreviation": "Journal of American History",
     "language": "en",
     "page": "122-147",
     "page-first": "122",
     "shortTitle": "Space, Nation, and the Triumph of Region",
     "title": "Space, Nation, and the Triumph of Region: A View of the World from Houston",
     "title-short": "Space, Nation, and the Triumph of Region",
     "type": "article-journal",
     "volume": "101"
    },
    "32868/D87SQ2TI": {
     "abstract": "Asserts that design-based research, which blends empirical educational research with theory-driven design of learning environments, is an important methodology for understanding how, when, and why educational innovations work in practice. Illustrates design-based research, noting relationships with other research methodologies, challenges faced by design-based research methods, and prospects for design-based research in education (e.g., increasing human capacity for innovation). (SM)",
     "archive_location": "EJ667306",
     "author": [
      {
       "family": "Collective",
       "given": "Design-Based Research"
      }
     ],
     "container-title": "Educational Researcher",
     "id": "32868/D87SQ2TI",
     "issue": "1",
     "issued": {
      "month": 1,
      "year": 2003
     },
     "page": "5-8",
     "page-first": "5",
     "title": "Design-Based Research: An Emerging Paradigm for Educational Inquiry",
     "type": "article-journal",
     "volume": "32"
    },
    "32868/EASDXMTU": {
     "author": [
      {
       "family": "Shannon",
       "given": "Paul"
      },
      {
       "family": "Markiel",
       "given": "Andrew"
      },
      {
       "family": "Ozier",
       "given": "Owen"
      },
      {
       "family": "Baliga",
       "given": "Nitin S"
      },
      {
       "family": "Wang",
       "given": "Jonathan T"
      },
      {
       "family": "Ramage",
       "given": "Daniel"
      },
      {
       "family": "Amin",
       "given": "Nada"
      },
      {
       "family": "Schwikowski",
       "given": "Benno"
      },
      {
       "family": "Ideker",
       "given": "Trey"
      }
     ],
     "container-title": "Genome research",
     "id": "32868/EASDXMTU",
     "issue": "11",
     "issued": {
      "year": 2003
     },
     "note": "Publisher: Cold Spring Harbor Lab",
     "page": "2498–2504",
     "page-first": "2498",
     "title": "Cytoscape: a software environment for integrated models of biomolecular interaction networks",
     "type": "article-journal",
     "volume": "13"
    },
    "32868/EMN6PG6E": {
     "DOI": "https://doi.org/10.3102/0013189X11428813",
     "author": [
      {
       "family": "Anderson",
       "given": "Terry"
      },
      {
       "family": "Shattuck",
       "given": "Julie"
      }
     ],
     "container-title": "Educational Researcher",
     "id": "32868/EMN6PG6E",
     "issue": "1",
     "issued": {
      "month": 1,
      "year": 2012
     },
     "page": "16-25",
     "page-first": "16",
     "title": "Design-Based Research: A Decade of Progress in Education Research?",
     "type": "article-journal",
     "volume": "41"
    },
    "32868/G6AXUCDT": {
     "author": [
      {
       "family": "Graham",
       "given": "Shawn"
      },
      {
       "family": "Milligan",
       "given": "Ian"
      },
      {
       "family": "Weingart",
       "given": "Scott"
      }
     ],
     "id": "32868/G6AXUCDT",
     "issued": {
      "year": 2016
     },
     "publisher": "Imperial College Press",
     "title": "Exploring Big Historical Data: The Historian’s Macroscope",
     "type": "book"
    },
    "32868/I7VZY2PE": {
     "author": [
      {
       "family": "Shopkow",
       "given": "Leah"
      }
     ],
     "event-place": "Toronto",
     "id": "32868/I7VZY2PE",
     "issued": {
      "year": 2021
     },
     "publisher": "University of Toronto Press",
     "publisher-place": "Toronto",
     "title": "The Saint and the Count: A Case Study for Reading like a Historian",
     "type": "book"
    },
    "32868/IRAIZC6T": {
     "author": [
      {
       "family": "Mohr",
       "given": "James C."
      }
     ],
     "event-place": "New York, NY",
     "id": "32868/IRAIZC6T",
     "issued": {
      "season": "paperback 2006",
      "year": 2005
     },
     "publisher": "Oxford University Press",
     "publisher-place": "New York, NY",
     "title": "Plague and Fire: Battling Black Death and the 1900 Burning of Honolulu’s Chinatown",
     "type": "book"
    },
    "32868/KDHLEAN5": {
     "URL": "http://www.digitalhumanities.org/dhq/vol/5/1/000091/000091.html",
     "accessed": {
      "day": 6,
      "month": 5,
      "year": 2022
     },
     "author": [
      {
       "family": "Drucker",
       "given": "Johanna"
      }
     ],
     "container-title": "Digital Humanities Quarterly",
     "id": "32868/KDHLEAN5",
     "issue": "1",
     "issued": {
      "year": 2011
     },
     "title": "Humanities Approaches to Graphical Display",
     "type": "article-journal",
     "volume": "5"
    },
    "32868/KWEIABPM": {
     "URL": "http://journalofdigitalhumanities.org/1-1/demystifying-networks-by-scott-weingart/",
     "accessed": {
      "day": 1,
      "month": 2,
      "year": 2017
     },
     "author": [
      {
       "family": "Weingart",
       "given": "Scott"
      }
     ],
     "container-title": "Journal of Digital Humanities",
     "id": "32868/KWEIABPM",
     "issue": "1",
     "issued": {
      "season": "Winter",
      "year": 2011
     },
     "title": "Demystifying Networks, Parts I & II",
     "type": "article-journal",
     "volume": "1"
    },
    "32868/LWIUPFXH": {
     "ISBN": "0-19-282421-X",
     "author": [
      {
       "family": "Tacitus",
       "given": "Cornelius"
      }
     ],
     "id": "32868/LWIUPFXH",
     "issued": {
      "year": 2008
     },
     "publisher": "Oxford University Press",
     "title": "The Annals: The Reigns of Tiberius, Claudius, and Nero",
     "type": "book"
    },
    "32868/R5XQP7RJ": {
     "URL": "http://www.jstor.org/stable/27736712",
     "abstract": "Understanding human activity in real-world situations often involves complicated data collection, analysis, and presentation methods. This article discusses how Cultural-Historical Activity Theory (CHAT) can inform design-based research practices that focus on understanding activity in real-world situations. I provide a sample data set with activity systems analyses of a yearlong teacher professional development program designed to foster technology integration into rural Indiana schools. I present the analytical dilemmas I faced while maintaining trustworthiness in the qualitative data analysis. Through the sample data analysis, I demonstrate how the school-wide technology reform initiative affected and was affected by classroom-based teacher technology implementation projects. Additionally, I introduce the theoretical findings from the data analyses that contribute to further development in activity systems analysis.",
     "author": [
      {
       "family": "Yamagata-Lynch",
       "given": "Lisa C."
      }
     ],
     "container-title": "The Journal of the Learning Sciences",
     "id": "32868/R5XQP7RJ",
     "issue": "4",
     "issued": {
      "year": 2007
     },
     "page": "451-484",
     "page-first": "451",
     "title": "Confronting Analytical Dilemmas for Understanding Complex Human Interactions in Design-Based Research from a Cultural-Historical Activity Theory (CHAT) Framework",
     "type": "article-journal",
     "volume": "16"
    },
    "32868/Z2USYDSR": {
     "DOI": "10.20429/ijsotl.2017.110107",
     "author": [
      {
       "family": "Craig",
       "given": "Kalani"
      }
     ],
     "container-title": "International Journal for the Scholarship of Teaching and Learning",
     "id": "32868/Z2USYDSR",
     "issue": "1",
     "issued": {
      "year": 2017
     },
     "title": "Analog Tools in Digital History Classrooms: An Activity-Theory Case Study of Learning Opportunities in Digital Humanities",
     "type": "article-journal",
     "volume": "11"
    }
   }
  },
  "kernelspec": {
   "display_name": "Python 3 (ipykernel)",
   "language": "python",
   "name": "python3"
  },
  "language_info": {
   "codemirror_mode": {
    "name": "ipython",
    "version": 3
   },
   "file_extension": ".py",
   "mimetype": "text/x-python",
   "name": "python",
   "nbconvert_exporter": "python",
   "pygments_lexer": "ipython3",
   "version": "3.7.13"
  },
  "toc": {
   "base_numbering": 1,
   "nav_menu": {},
   "number_sections": true,
   "sideBar": true,
   "skip_h1_title": false,
   "title_cell": "Table of Contents",
   "title_sidebar": "Contents",
   "toc_cell": false,
   "toc_position": {},
   "toc_section_display": true,
   "toc_window_display": false
  }
 },
 "nbformat": 4,
 "nbformat_minor": 4
}
