{
 "cells": [
  {
   "cell_type": "markdown",
   "metadata": {
    "citation-manager": {
     "citations": {
      "": []
     }
    },
    "tags": [
     "title"
    ]
   },
   "source": [
    "# Designing Our Digital Past\n",
    "## Anchoring Digital-History Tool Development in the Historical Method Through Design-Based History Research"
   ]
  },
  {
   "cell_type": "markdown",
   "metadata": {
    "tags": [
     "contributor"
    ]
   },
   "source": [
    " ### Kalani Craig [![orcid](https://orcid.org/sites/default/files/images/orcid_16x16.png)](https://orcid.org/0000-0002-8909-0369) \n",
    "Department of History, College of Arts + Sciences Indiana University-Bloomington "
   ]
  },
  {
   "cell_type": "markdown",
   "metadata": {
    "tags": [
     "contributor"
    ]
   },
   "source": [
    " ### Joshua Danish [![orcid](https://orcid.org/sites/default/files/images/orcid_16x16.png)](https://orcid.org/0000-0002-8909-0369) \n",
    "Learning Sciences, School of Education, Indiana University-Bloomington "
   ]
  },
  {
   "cell_type": "markdown",
   "metadata": {
    "tags": [
     "copyright"
    ]
   },
   "source": [
    "[![cc-by-nc-nd](https://licensebuttons.net/l/by-nc-nd/4.0/88x31.png)](https://creativecommons.org/licenses/by-nc-nd/4.0/) \n",
    "© Kalani Craig and Joshua Danish. [Net.Create](https://www.netcreate.org) is funded through the [EAGER program](https://www.nsf.gov/pubs/policydocs/pappguide/nsf09_1/gpg_2.jsp#IID2) at the [National Science Foundation](https://www.nsf.gov/) under award #[1848655](https://www.nsf.gov/awardsearch/showAward?AWD_ID=1848655). Published by De Gruyter in cooperation with the University of Luxembourg Centre for Contemporary and Digital History. This is an Open Access article distributed under the terms of the [Creative Commons Attribution License CC-BY-NC-ND](https://creativecommons.org/licenses/by-nc-nd/4.0/)\n"
   ]
  },
  {
   "cell_type": "code",
   "execution_count": null,
   "metadata": {
    "tags": [
     "cover"
    ]
   },
   "outputs": [],
   "source": [
    "from IPython.display import Image, display\n",
    "\n",
    "display(Image(\"./media/placeholder.png\"))"
   ]
  },
  {
   "cell_type": "markdown",
   "metadata": {
    "tags": [
     "keywords"
    ]
   },
   "source": [
    "network analysis, digital history tool design, capta, collaborative history"
   ]
  },
  {
   "cell_type": "markdown",
   "metadata": {
    "tags": [
     "abstract"
    ]
   },
   "source": [
    "Many of the tools digital humanists use have come from a variety of disciplines outside of history. As a consequence, many digital-history methods sections focus on how a tool developed by non-historians might support, or need to be adapted for, particular historical questions. Few digital tools have been developed by and for historians with a specific eye to the methdological and theoretical explorations of design principles that anchor digital-history-specific tool development in historiographic practices.\n",
    "\n",
    "This article introduces Design Based History Research (DBHR) as a methodological bridge between the practices of digital-history tool design, the use of digital methods to create historical argumentation, and social-science-inspired methodological innovation. Design Based Research (DBR) is an educational-research approach to studying learning theory that integrates theoretically motivated user interface features, user activities, and data-structure choices into an initial tool/software-package design and then uses case studies of the design package as a way of iteratively reifying the theoretical principles in each of the tool's design phases. DBHR is an adaptation of the DBR approach, with a theoretical approach grounded in the unique needs of historians and historiographic practices.\n",
    "\n",
    "We aim to illustrate DBHR by describing the design and use of Net.Create, a user-focused network-analysis tool that prioritizes historiographic practices (evidence interpretation, citation preservation, and historiographic debate) in its feature development and user-interface choices. We document how the needs of digital historians shaped the current design of Net.Create, explore the connections between specific tool features and their operation, and delineate how those tool features support the digital-history needs we identified. As part of this iterative-design process, we will also address some of the human-computer-interaction analysis and user-entered network data that shaped each stage of our feature development around digital history practices.\n",
    "\n",
    "Our DBHR process ultimately led us to prioritize the development of three features that support and encourage sustained historiographic debate at each phase of a network-analysis digital-history project:\n",
    "- simultaneous entry of *capta*, data that is gathered and contested rather than downloaded or received, in order to support and encourage historiographic debate during the data-gathering phase and prior to a formal analysis phase\n",
    "- easy-to-use revision of network taxonomy and network data, to support interpretation, reinterpretation and re-input of evidence and data by many collaborators simultaneously, synchronously or asynchronously, during the initial analysis phase\n",
    "- data provenance features that expose the researchers' positionality and preserve the original citations for each network datapoint, to support the integration of close-reading analytical practices both by the research team and by other historians after the communication of results to a public audience\n",
    "\n",
    "By documenting the historiographic roots of each of these features, we hope to offer a systematic articulation of digital history tool design not simply as software development but as a pathway to the concurrent and intertwined development of historical theory, digital-history tools, and collaborative historical methods."
   ]
  },
  {
   "cell_type": "markdown",
   "metadata": {},
   "source": [
    "## Introduction: Archival Boxes and Computational Black Boxes"
   ]
  },
  {
   "cell_type": "markdown",
   "metadata": {
    "tags": [
     "narrative"
    ]
   },
   "source": [
    "History starts in the archives. There's a joy in the sorting of, and note-taking about, the riches that spill forth from an  box that's been catalogued by an archivist. We mark the documents that are vital for our research project, call on the expertise of an archivist to help find related boxes, and revel in the surprise of a weird document that doesn't fit quite yet but makes us laugh or cry or think about starting a new project."
   ]
  },
  {
   "cell_type": "markdown",
   "metadata": {
    "tags": [
     "narrative"
    ]
   },
   "source": [
    "Opening the box is the easiest part of that discovery process."
   ]
  },
  {
   "cell_type": "markdown",
   "metadata": {
    "tags": [
     "narrative"
    ]
   },
   "source": [
    "Digital-history analysis starts with a box as well, but opening the box is a barrier rather than a gateway. When historians import historical documents into digital tools for analysis, we are putting our documents back into boxes; \"computational black boxes\" to be exact. Bruno Latour describes computational black boxes, roughly, as systems that are so complex that we can’t actually wrap our heads around them. Instead, we put boundaries around the complexity we can't handle. We feed in data, export results, and forget or ignore the algorithmic processes inside the box. Every search field we encounter leads to its own black box, its results freely available but its logic obscured."
   ]
  },
  {
   "cell_type": "markdown",
   "metadata": {
    "tags": [
     "narrative"
    ]
   },
   "source": [
    "When digital historians engage in analysis using a tool built by practitioners in another discipline, we inherit the research priorities of the people who built that tool. As a consequence, when there are methods sections in digital-history articles, those sections focus on how a tool developed by non-historians might support, or need to be adapted for, particular historical questions. Few digital tools, especially in the realm of network analysis, have been developed by and for historians with a specific eye to the methdological and theoretical explorations of design principles that anchor digital-history-specific tool development in historiographic practices. This article introduces Design Based History Research (DBHR) as a methodological bridge between the practices of digital-history tool design, the use of digital methods to create historical argumentation, and social-science-inspired methodological innovation."
   ]
  },
  {
   "cell_type": "markdown",
   "metadata": {
    "tags": [
     "narrative"
    ]
   },
   "source": [
    "In this article, we aim to illustrate DBHR by describing the design and use of Net.Create, a user-focused network-analysis tool that prioritizes historiographic practices (evidence interpretation, citation preservation, and historiographic debate) in its feature development and user-interface choices. We document how the needs of digital historians shaped several iterations of the Net.Create design process, explore the connections between specific tool features and their operation, and delineate how those tool features support the digital-history needs we identified. As part of this iterative-design process, we will also address some of the human-computer-interaction analysis and user-entered network data that shaped each stage of our feature development around digital history practices."
   ]
  },
  {
   "cell_type": "markdown",
   "metadata": {
    "tags": [
     "narrative"
    ]
   },
   "source": [
    "Our use of DBHR as a guide for our process ultimately led us to prioritize the development of three features that support and encourage sustained historiographic debate at each phase of a network-analysis digital-history project, outlined in section XXXX below. Each of these features, in turn, offers other digtal-historians a way to generalize oru user-interface goals, evaluate their own in-development tools, and evaluate the tools they use for their research. By documenting the historiographic roots of Net.Create's features, we hope to offer a systematic articulation of digital history tool design not simply as software development but as a pathway to the concurrent and intertwined development of historical theory, digital-history tools, and collaborative historical methods."
   ]
  },
  {
   "cell_type": "markdown",
   "metadata": {},
   "source": [
    "## An introduction to Design Based History Research (DBHR)"
   ]
  },
  {
   "cell_type": "markdown",
   "metadata": {
    "tags": [
     "narrative"
    ]
   },
   "source": [
    "Introducing DBHR requires us first to consider Design Based Research (DBR) sans the  \"H\". DBR is an approach to studying, modifying, and applying learning theory. Researchers seeking to undersatnd how people learn use DBR by integrating a motivating educational theory into a tool and/or activity design, implementing their design, and then studying the learning outcomes from that design as a way of modifying both their motivating theory and the design that aims to reify the theory. The educational researchers making use of DBR stress its value in providing a way to assess the application of theory  through the development and design principles that guide, inform, and improve theory, practice, and research in educational contexts. Translated into language that makes sense for historians, DBR tracks change and continuity over time in two things: the design of a research tool, and the ways in which that design shapes and is shaped by the historical-methods needs of the researchers using it. Design Based History Research, then, is a very natural adaptation of the historical method itself to the process of digital-history tool design."
   ]
  },
  {
   "cell_type": "markdown",
   "metadata": {
    "tags": [
     "narrative"
    ]
   },
   "source": [
    "Adapting DBR to DBHR starts with the acknowledgement that the article \"the\" in \"the historical method\" isn't a monolith. The historical method governs not a singular approach to history--a single, well-articulated, unified \"the\"--but a wide variety of praxis, theory, and individual approaches to the study of the past that puts archival source material in conversation with other historical experts. Questions of scale, audience, sourcing, and presentation all  shape these conversations. The work of a microhistorian is shaped by the scale of the research, while public historians begin their work with questions of audience. Cultural and social historians differentiate their subfield methods by asking different questions and emphasizing the use of divergent types of documentary evidence to answer those questions. In our teaching, we communicate a reasonably well-developed description of each of these methdologies, which aligns our field with the social-science approach that says defined methods should be included in published scholarship."
   ]
  },
  {
   "cell_type": "markdown",
   "metadata": {
    "tags": [
     "narrative"
    ]
   },
   "source": [
    "At the same time, the work of a historian is also guided by hermeneutics and researcher positionality, not objectivity or repeatability; these disciplinary values eschew more formal methods sections. As a result, tool design in the context of a field that both relies on, and leans away from, documenting its own research methods can be something of a challenge. Framing the iterative process of change and continuity over time as the key component of DBHR, and of the tool designs rooted in it, allows digital-history tool designers to use historiography as a guiding principle for both their tool design and to provide a foundation for the articulation of the historical method for other historians using those tools."
   ]
  },
  {
   "cell_type": "markdown",
   "metadata": {},
   "source": [
    "## DBHR through Net.Create"
   ]
  },
  {
   "cell_type": "markdown",
   "metadata": {
    "tags": [
     "narrative",
     "hermeneutics"
    ]
   },
   "source": [
    "To illustrate how a concrete set of design choices rooted in historiographic principles can be iterated, tested, and redesigned to create a digital tool that doesn't just support, but encourages and furthers, historical analysis, we now proceed to outline a series of design choices made over the course of 5 years during the development of Net.Create. In Table XXXX, we list three feature sets, each of which has several user-interface design choices associated with it in Net.Create. These three feature sets START HERE"
   ]
  },
  {
   "cell_type": "markdown",
   "metadata": {
    "tags": [
     "table-1"
    ]
   },
   "source": [
    "| Feature                                                                | Technical Implication                                                                                                                                                                  | Historiographic Foundation                                                                                                                                                                                                                                          |\n",
    "| :--| :--| :--|\n",
    "|simultaneous entry of *capta*                                          |data that is gathered and contested rather than downloaded or received                                                                                                              |support and encourage historiographic debate during the data-gathering phase and prior to a formal analysis phase. *Capta* offers an operating principle for focusing capture of information through debate.                                                        |\n",
    "|easy-to-use revision of network taxonomy and network data              |support interpretation, reinterpretation and re-input of evidence and data by many collaborators simultaneously, synchronously or asynchronously, during the initial analysis phase |revision and re-entry of *capta* that emphasizes the interpretive and conversational nature of historiographic debate                                                                                                                                               |\n",
    "|data provenance on several levels (citation, researcher add, revision) |support the integration of close-reading analytical practices both by the research team and by other historians after the communication of results to a public audience             |data provenance features preserve links to citation and researcher as a path to transparency for our adiences and to emphasze the importansce of sourcing and  expose the researchers' positionality and preserve the original citations for each network datapoint |"
   ]
  },
  {
   "cell_type": "markdown",
   "metadata": {
    "tags": [
     "hermeneutics",
     "narrative"
    ]
   },
   "source": []
  }
 ],
 "metadata": {
  "celltoolbar": "Tags",
  "citation-manager": {
   "items": {}
  },
  "cite2c": {
   "citations": {}
  },
  "kernelspec": {
   "display_name": "Python 3 (ipykernel)",
   "language": "python",
   "name": "python3"
  },
  "language_info": {
   "codemirror_mode": {
    "name": "ipython",
    "version": 3
   },
   "file_extension": ".py",
   "mimetype": "text/x-python",
   "name": "python",
   "nbconvert_exporter": "python",
   "pygments_lexer": "ipython3",
   "version": "3.7.13"
  },
  "toc": {
   "base_numbering": 1,
   "nav_menu": {},
   "number_sections": true,
   "sideBar": true,
   "skip_h1_title": false,
   "title_cell": "Table of Contents",
   "title_sidebar": "Contents",
   "toc_cell": false,
   "toc_position": {},
   "toc_section_display": true,
   "toc_window_display": false
  }
 },
 "nbformat": 4,
 "nbformat_minor": 4
}
