{
 "cells": [
  {
   "cell_type": "markdown",
   "metadata": {
    "citation-manager": {
     "citations": {
      "": []
     }
    },
    "tags": [
     "title"
    ]
   },
   "source": [
    "# Designing Our Digital Past\n",
    "## Anchoring Digital-History Tool Development in the Historical Method Through Design-Based History Research"
   ]
  },
  {
   "cell_type": "markdown",
   "metadata": {
    "tags": [
     "contributor"
    ]
   },
   "source": [
    " ### Kalani Craig [![orcid](https://orcid.org/sites/default/files/images/orcid_16x16.png)](https://orcid.org/0000-0002-8909-0369) \n",
    "Department of History, College of Arts + Sciences Indiana University-Bloomington "
   ]
  },
  {
   "cell_type": "markdown",
   "metadata": {
    "tags": [
     "contributor"
    ]
   },
   "source": [
    " ### Joshua Danish [![orcid](https://orcid.org/sites/default/files/images/orcid_16x16.png)](https://orcid.org/0000-0002-8909-0369) \n",
    "Learning Sciences, School of Education, Indiana University-Bloomington "
   ]
  },
  {
   "cell_type": "markdown",
   "metadata": {
    "tags": [
     "copyright"
    ]
   },
   "source": [
    "[![cc-by-nc-nd](https://licensebuttons.net/l/by-nc-nd/4.0/88x31.png)](https://creativecommons.org/licenses/by-nc-nd/4.0/) \n",
    "© Kalani Craig and Joshua Danish. [Net.Create](https://www.netcreate.org) is funded through the [EAGER program](https://www.nsf.gov/pubs/policydocs/pappguide/nsf09_1/gpg_2.jsp#IID2) at the [National Science Foundation](https://www.nsf.gov/) under award #[1848655](https://www.nsf.gov/awardsearch/showAward?AWD_ID=1848655). Published by De Gruyter in cooperation with the University of Luxembourg Centre for Contemporary and Digital History. This is an Open Access article distributed under the terms of the [Creative Commons Attribution License CC-BY-NC-ND](https://creativecommons.org/licenses/by-nc-nd/4.0/)\n"
   ]
  },
  {
   "cell_type": "code",
   "execution_count": null,
   "metadata": {
    "tags": [
     "cover"
    ]
   },
   "outputs": [],
   "source": [
    "from IPython.display import Image, display\n",
    "\n",
    "display(Image(\"./media/placeholder.png\"))"
   ]
  },
  {
   "cell_type": "markdown",
   "metadata": {
    "tags": [
     "keywords"
    ]
   },
   "source": [
    "network analysis, digital history tool design, capta, collaborative history"
   ]
  },
  {
   "cell_type": "markdown",
   "metadata": {
    "tags": [
     "abstract"
    ]
   },
   "source": [
    "Many of the tools digital humanists use have come from a variety of disciplines outside of history. As a consequence, many digital-history methods sections focus on how a tool developed by non-historians might support, or need to be adapted for, particular historical questions. Few digital tools have been developed by and for historians with a specific eye to the methdological and theoretical explorations of design principles that anchor digital-history-specific tool development in historiographic practices.\n",
    "\n",
    "This article introduces Design Based History Research (DBHR) as a methodological bridge between the practices of digital-history tool design, the use of digital methods to create historical argumentation, and social-science-inspired methodological innovation. Design Based Research (DBR) is an educational-research approach to studying learning theory that integrates theoretically motivated user interface features, user activities, and data-structure choices into an initial tool/software-package design and then uses case studies of the design package as a way of iteratively reifying the theoretical principles in each of the tool's design phases. DBHR is an adaptation of the DBR approach, with a theoretical approach grounded in the unique needs of historians and historiographic practices.\n",
    "\n",
    "We aim to illustrate DBHR by describing the design and use of Net.Create, a user-focused network-analysis tool that prioritizes historiographic practices (evidence interpretation, citation preservation, and historiographic debate) in its feature development and user-interface choices. We document how the needs of digital historians shaped the current design of Net.Create, explore the connections between specific tool features and their operation, and delineate how those tool features support the digital-history needs we identified. As part of this iterative-design process, we will also address some of the human-computer-interaction analysis and user-entered network data that shaped each stage of our feature development around digital history practices.\n",
    "\n",
    "Our DBHR process ultimately led us to prioritize the development of three features that support and encourage sustained historiographic debate at each phase of a network-analysis digital-history project:\n",
    "- simultaneous entry of *capta*, data that is gathered and contested rather than downloaded or received, in order to support and encourage historiographic debate during the data-gathering phase and prior to a formal analysis phase\n",
    "- easy-to-use revision of network taxonomy and network data, to support interpretation, reinterpretation and re-input of evidence and data by many collaborators simultaneously, synchronously or asynchronously, during the initial analysis phase\n",
    "- data provenance features that expose the researchers' positionality and preserve the original citations for each network datapoint, to support the integration of close-reading analytical practices both by the research team and by other historians after the communication of results to a public audience\n",
    "\n",
    "By documenting the historiographic roots of each of these features, we hope to offer a systematic articulation of digital history tool design not simply as software development but as a pathway to the concurrent and intertwined development of historical theory, digital-history tools, and collaborative historical methods."
   ]
  },
  {
   "cell_type": "markdown",
   "metadata": {},
   "source": [
    "## Introduction: Archival Boxes and Computational Black Boxes"
   ]
  },
  {
   "cell_type": "markdown",
   "metadata": {
    "tags": [
     "narrative"
    ]
   },
   "source": [
    "History starts in the archives. There's a joy in the sorting of, and note-taking about, the riches that spill forth from an  box that's been catalogued by an archivist. We mark the documents that are vital for our research project, call on the expertise of an archivist to help find related boxes, and revel in the surprise of a weird document that doesn't fit quite yet but makes us laugh or cry or think about starting a new project."
   ]
  },
  {
   "cell_type": "markdown",
   "metadata": {
    "tags": [
     "narrative"
    ]
   },
   "source": [
    "Opening the box is the easiest part of that discovery process."
   ]
  },
  {
   "cell_type": "markdown",
   "metadata": {
    "tags": [
     "narrative"
    ]
   },
   "source": [
    "Digital-history analysis starts with a box as well, but opening the box is a barrier rather than a gateway. When historians import historical documents into digital tools for analysis, we are putting our documents back into boxes; \"computational black boxes\" to be exact. Bruno Latour describes computational black boxes, roughly, as systems that are so complex that we can’t actually wrap our heads around them. Instead, we put boundaries around the complexity we can't handle. We feed in data, export results, and forget or ignore the algorithmic processes inside the box. Every search field we encounter leads to its own black box, its results freely available but its logic obscured."
   ]
  },
  {
   "cell_type": "markdown",
   "metadata": {
    "tags": [
     "narrative"
    ]
   },
   "source": [
    "When digital historians engage in analysis using a tool built by practitioners in another discipline, we inherit the research priorities of the people who built that tool. As a consequence, when there are methods sections in digital-history articles, those sections focus on how a tool developed by non-historians might support, or need to be adapted for, particular historical questions. Few digital tools, especially in the realm of network analysis, have been developed by and for historians with a specific eye to the methdological and theoretical explorations of design principles that anchor digital-history-specific tool development in historiographic practices. This article introduces Design Based History Research (DBHR) as a methodological bridge between the practices of digital-history tool design, the use of digital methods to create historical argumentation, and social-science-inspired methodological innovation."
   ]
  },
  {
   "cell_type": "markdown",
   "metadata": {
    "tags": [
     "narrative"
    ]
   },
   "source": [
    "In this article, we aim to illustrate DBHR by describing the design and use of Net.Create, a user-focused network-analysis tool that prioritizes historiographic practices (evidence interpretation, citation preservation, and historiographic debate) in its feature development and user-interface choices. We document how the needs of digital historians shaped several iterations of the Net.Create design process, explore the connections between specific tool features and their operation, and delineate how those tool features support the digital-history needs we identified. As part of this iterative-design process, we will also address some of the human-computer-interaction analysis and user-entered network data that shaped each stage of our feature development around digital history practices."
   ]
  },
  {
   "cell_type": "code",
   "execution_count": 7,
   "metadata": {},
   "outputs": [
    {
     "ename": "SyntaxError",
     "evalue": "invalid syntax (410676223.py, line 1)",
     "output_type": "error",
     "traceback": [
      "\u001b[0;36m  File \u001b[0;32m\"/tmp/ipykernel_30/410676223.py\"\u001b[0;36m, line \u001b[0;32m1\u001b[0m\n\u001b[0;31m    Python goes here\u001b[0m\n\u001b[0m              ^\u001b[0m\n\u001b[0;31mSyntaxError\u001b[0m\u001b[0;31m:\u001b[0m invalid syntax\n"
     ]
    }
   ],
   "source": [
    "Python goes here"
   ]
  },
  {
   "cell_type": "markdown",
   "metadata": {
    "tags": [
     "narrative"
    ]
   },
   "source": [
    "Our use of DBHR as a guide for our process ultimately led us to prioritize the development of three features that support and encourage sustained historiographic debate at each phase of a network-analysis digital-history project, outlined in section XXXX below. Each of these features, in turn, offers other digtal-historians a way to generalize oru user-interface goals, evaluate their own in-development tools, and evaluate the tools they use for their research. By documenting the historiographic roots of Net.Create's features, we hope to offer a systematic articulation of digital history tool design not simply as software development but as a pathway to the concurrent and intertwined development of historical theory, digital-history tools, and collaborative historical methods."
   ]
  },
  {
   "cell_type": "markdown",
   "metadata": {},
   "source": [
    "## An introduction to Design Based History Research (DBHR)"
   ]
  },
  {
   "cell_type": "markdown",
   "metadata": {
    "tags": [
     "narrative"
    ]
   },
   "source": [
    "Introducing DBHR requires us first to consider Design Based Research (DBR) sans the  \"H\".<cite data-cite=\"32868/D87SQ2TI\"></cite><cite data-cite=\"32868/R5XQP7RJ\"></cite> DBR is an approach to studying, modifying, and applying learning theory. Researchers seeking to undersatnd how people learn use DBR by integrating a motivating educational theory into a tool and/or activity design, implementing their design, and then studying the learning outcomes from that design as a way of modifying both their motivating theory and the design that aims to reify the theory. The educational researchers making use of DBR stress its value in providing a way to assess the application of theory  through the development and design principles that guide, inform, and improve theory, practice, and research in educational contexts. Translated into language that makes sense for historians, DBR tracks change and continuity over time in two things: the design of a research tool, and the ways in which that design shapes and is shaped by the historical-methods needs of the researchers using it. Design Based History Research, then, is a very natural adaptation of the historical method itself to the process of digital-history tool design."
   ]
  },
  {
   "cell_type": "markdown",
   "metadata": {
    "tags": [
     "narrative"
    ]
   },
   "source": [
    "Adapting DBR to DBHR starts with the acknowledgement that the article \"the\" in \"the historical method\" isn't a monolith. The historical method governs not a singular approach to history--a single, well-articulated, unified \"the\"--but a wide variety of praxis, theory, and individual approaches to the study of the past that puts archival source material in conversation with other historical experts. Questions of scale, audience, sourcing, and presentation all  shape these conversations. The work of a microhistorian is shaped by the scale of the research, while public historians begin their work with questions of audience. Cultural and social historians differentiate their subfield methods by asking different questions and emphasizing the use of divergent types of documentary evidence to answer those questions. In our teaching, we communicate a reasonably well-developed description of each of these methdologies, which aligns our field with the social-science approach that says defined methods should be included in published scholarship.<cite data-cite=\"32868/Z2USYDSR\"></cite>"
   ]
  },
  {
   "cell_type": "markdown",
   "metadata": {
    "tags": [
     "narrative"
    ]
   },
   "source": [
    "At the same time, the work of a historian is also guided by hermeneutics and researcher positionality, not objectivity or repeatability;<cite data-cite=\"32868/I7VZY2PE\"></cite> these disciplinary values eschew more formal methods sections.<cite data-cite=\"32868/BNNGRRLH\"></cite> As a result, tool design in the context of a field that both relies on, and leans away from, documenting its own research methods can be something of a challenge. Framing the iterative process of change and continuity over time as the key component of DBHR, and of the tool designs rooted in it, allows digital-history tool designers to use historiography as a guiding principle for both their tool design and to provide a foundation for the articulation of the historical method for other historians using those tools."
   ]
  },
  {
   "cell_type": "markdown",
   "metadata": {},
   "source": [
    "## DBHR through Net.Create"
   ]
  },
  {
   "cell_type": "markdown",
   "metadata": {
    "tags": [
     "narrative",
     "hermeneutics"
    ]
   },
   "source": [
    "To illustrate how a concrete set of design choices rooted in historiographic principles can be iterated, tested, and redesigned to create a digital tool that doesn't just support, but encourages and furthers, historical analysis, we now proceed to outline a series of design choices made over the course of 5 years during the development of Net.Create. In Table XXXX, we list three feature sets, each of which has several user-interface design choices associated with it in Net.Create. These three feature sets START HERE"
   ]
  },
  {
   "cell_type": "markdown",
   "metadata": {
    "tags": [
     "table-1"
    ]
   },
   "source": [
    "| Design iteration | Feature | Technical Implication | Historiographic Foundation |\n",
    "| :--| :--| :--| :--|\n",
    "| 1, 2 | simultaneous entry of *capta* |data that is gathered and contested rather than downloaded or received | support and encourage historiographic debate during the data-gathering phase and prior to a formal analysis phase. *Capta* offers an operating principle for focusing capture of information through debate. |\n",
    "|2, 3 | easy-to-use revision of network data and taxonomy | support interpretation, reinterpretation and re-input of evidence and data by many collaborators simultaneously, synchronously or asynchronously, during the initial analysis phase |revision and re-entry of *capta* that emphasizes the interpretive and conversational nature of historiographic debate |\n",
    "|1, 2, 3, 4 |data provenance on several levels (citation, revision tracking, researcher contributions) |support the integration of close-reading analytical practices both by the research team and by other historians after the communication of results to a public audience |data provenance features preserve links to citation and researcher as a path to transparency for our adiences and to emphasze the importansce of sourcing and  expose the researchers' positionality and preserve the original citations for each network datapoint |"
   ]
  },
  {
   "cell_type": "code",
   "execution_count": 9,
   "metadata": {
    "tags": [
     "code"
    ]
   },
   "outputs": [
    {
     "data": {
      "text/html": [
       "\n",
       "        <iframe\n",
       "            width=\"100%\"\n",
       "            height=\"1000\"\n",
       "            src=\"https://netcreate.org/SampleNetworks/Package/?dataset=2019-02-06_TacitusGender#/\"\n",
       "            frameborder=\"0\"\n",
       "            allowfullscreen\n",
       "            \n",
       "        ></iframe>\n",
       "        "
      ],
      "text/plain": [
       "<IPython.lib.display.IFrame at 0x7f94b4f08390>"
      ]
     },
     "metadata": {},
     "output_type": "display_data"
    }
   ],
   "source": [
    "from IPython.display import IFrame\n",
    "src='https://netcreate.org/SampleNetworks/Package/?dataset=2019-02-06_TacitusGender#/'\n",
    "display(IFrame(src, width='100%', height='1000'))"
   ]
  },
  {
   "cell_type": "code",
   "execution_count": null,
   "metadata": {},
   "outputs": [],
   "source": []
  }
 ],
 "metadata": {
  "celltoolbar": "Tags",
  "citation-manager": {
   "items": {}
  },
  "cite2c": {
   "citations": {
    "32868/BNNGRRLH": {
     "DOI": "10.1093/jahist/jau184",
     "URL": "https://academic.oup.com/jah/article-lookup/doi/10.1093/jahist/jau184",
     "accessed": {
      "day": 31,
      "month": 1,
      "year": 2023
     },
     "author": [
      {
       "family": "Blevins",
       "given": "Cameron"
      }
     ],
     "container-title": "Journal of American History",
     "container-title-short": "Journal of American History",
     "id": "32868/BNNGRRLH",
     "issue": "1",
     "issued": {
      "day": 1,
      "month": 6,
      "year": 2014
     },
     "journalAbbreviation": "Journal of American History",
     "language": "en",
     "page": "122-147",
     "page-first": "122",
     "shortTitle": "Space, Nation, and the Triumph of Region",
     "title": "Space, Nation, and the Triumph of Region: A View of the World from Houston",
     "title-short": "Space, Nation, and the Triumph of Region",
     "type": "article-journal",
     "volume": "101"
    },
    "32868/D87SQ2TI": {
     "abstract": "Asserts that design-based research, which blends empirical educational research with theory-driven design of learning environments, is an important methodology for understanding how, when, and why educational innovations work in practice. Illustrates design-based research, noting relationships with other research methodologies, challenges faced by design-based research methods, and prospects for design-based research in education (e.g., increasing human capacity for innovation). (SM)",
     "archive_location": "EJ667306",
     "author": [
      {
       "family": "Collective",
       "given": "Design-Based Research"
      }
     ],
     "container-title": "Educational Researcher",
     "id": "32868/D87SQ2TI",
     "issue": "1",
     "issued": {
      "month": 1,
      "year": 2003
     },
     "page": "5-8",
     "page-first": "5",
     "title": "Design-Based Research: An Emerging Paradigm for Educational Inquiry",
     "type": "article-journal",
     "volume": "32"
    },
    "32868/I7VZY2PE": {
     "author": [
      {
       "family": "Shopkow",
       "given": "Leah"
      }
     ],
     "event-place": "Toronto",
     "id": "32868/I7VZY2PE",
     "issued": {
      "year": 2021
     },
     "publisher": "University of Toronto Press",
     "publisher-place": "Toronto",
     "title": "The Saint and the Count: A Case Study for Reading like a Historian",
     "type": "book"
    },
    "32868/R5XQP7RJ": {
     "URL": "http://www.jstor.org/stable/27736712",
     "abstract": "Understanding human activity in real-world situations often involves complicated data collection, analysis, and presentation methods. This article discusses how Cultural-Historical Activity Theory (CHAT) can inform design-based research practices that focus on understanding activity in real-world situations. I provide a sample data set with activity systems analyses of a yearlong teacher professional development program designed to foster technology integration into rural Indiana schools. I present the analytical dilemmas I faced while maintaining trustworthiness in the qualitative data analysis. Through the sample data analysis, I demonstrate how the school-wide technology reform initiative affected and was affected by classroom-based teacher technology implementation projects. Additionally, I introduce the theoretical findings from the data analyses that contribute to further development in activity systems analysis.",
     "author": [
      {
       "family": "Yamagata-Lynch",
       "given": "Lisa C."
      }
     ],
     "container-title": "The Journal of the Learning Sciences",
     "id": "32868/R5XQP7RJ",
     "issue": "4",
     "issued": {
      "year": 2007
     },
     "page": "451-484",
     "page-first": "451",
     "title": "Confronting Analytical Dilemmas for Understanding Complex Human Interactions in Design-Based Research from a Cultural-Historical Activity Theory (CHAT) Framework",
     "type": "article-journal",
     "volume": "16"
    },
    "32868/Z2USYDSR": {
     "DOI": "10.20429/ijsotl.2017.110107",
     "author": [
      {
       "family": "Craig",
       "given": "Kalani"
      }
     ],
     "container-title": "International Journal for the Scholarship of Teaching and Learning",
     "id": "32868/Z2USYDSR",
     "issue": "1",
     "issued": {
      "year": 2017
     },
     "title": "Analog Tools in Digital History Classrooms: An Activity-Theory Case Study of Learning Opportunities in Digital Humanities",
     "type": "article-journal",
     "volume": "11"
    }
   }
  },
  "kernelspec": {
   "display_name": "Python 3 (ipykernel)",
   "language": "python",
   "name": "python3"
  },
  "language_info": {
   "codemirror_mode": {
    "name": "ipython",
    "version": 3
   },
   "file_extension": ".py",
   "mimetype": "text/x-python",
   "name": "python",
   "nbconvert_exporter": "python",
   "pygments_lexer": "ipython3",
   "version": "3.7.13"
  },
  "toc": {
   "base_numbering": 1,
   "nav_menu": {},
   "number_sections": true,
   "sideBar": true,
   "skip_h1_title": false,
   "title_cell": "Table of Contents",
   "title_sidebar": "Contents",
   "toc_cell": false,
   "toc_position": {},
   "toc_section_display": true,
   "toc_window_display": false
  }
 },
 "nbformat": 4,
 "nbformat_minor": 4
}
